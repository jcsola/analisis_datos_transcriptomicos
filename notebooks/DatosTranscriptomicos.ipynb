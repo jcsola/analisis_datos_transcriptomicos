{
 "cells": [
  {
   "cell_type": "markdown",
   "id": "e3e4eb10",
   "metadata": {},
   "source": [
    "# Proyecto GLIO-IA"
   ]
  },
  {
   "cell_type": "markdown",
   "id": "c3f327b9",
   "metadata": {},
   "source": [
    "## Análisis de Datos Transcriptómicos"
   ]
  },
  {
   "cell_type": "markdown",
   "id": "4eb8f725",
   "metadata": {},
   "source": [
    "Cosas a tener en cuenta:\n",
    "\n",
    "| Archivos | Datos que incluye |\n",
    "|:----------:|:----------:|\n",
    "| clinica_combinada.csv    | Recoge Todos los datos  |\n",
    "| TCGA-GBM.csv   | Glioblastomas   |\n",
    "| TCGA-LGG.csv   | Otros Gliomas   |\n"
   ]
  },
  {
   "cell_type": "markdown",
   "id": "e0aaaf39",
   "metadata": {},
   "source": [
    "### 1. Carga de Datos y Librerías\n"
   ]
  },
  {
   "cell_type": "code",
   "execution_count": 1,
   "id": "aa1db50a",
   "metadata": {},
   "outputs": [],
   "source": [
    "import pandas as pd\n",
    "import matplotlib.pyplot as plt\n",
    "import numpy as np\n",
    "import seaborn as sns\n",
    "\n",
    "from sklearn.decomposition import PCA\n",
    "from sklearn.metrics import accuracy_score, confusion_matrix"
   ]
  },
  {
   "cell_type": "code",
   "execution_count": 2,
   "id": "289ee56f",
   "metadata": {},
   "outputs": [
    {
     "data": {
      "text/html": [
       "<div>\n",
       "<style scoped>\n",
       "    .dataframe tbody tr th:only-of-type {\n",
       "        vertical-align: middle;\n",
       "    }\n",
       "\n",
       "    .dataframe tbody tr th {\n",
       "        vertical-align: top;\n",
       "    }\n",
       "\n",
       "    .dataframe thead th {\n",
       "        text-align: right;\n",
       "    }\n",
       "</style>\n",
       "<table border=\"1\" class=\"dataframe\">\n",
       "  <thead>\n",
       "    <tr style=\"text-align: right;\">\n",
       "      <th></th>\n",
       "      <th>project</th>\n",
       "      <th>submitter_id</th>\n",
       "      <th>days_to_recurrence</th>\n",
       "      <th>synchronous_malignancy</th>\n",
       "      <th>morphology</th>\n",
       "      <th>days_to_diagnosis</th>\n",
       "      <th>created_datetime</th>\n",
       "      <th>last_known_disease_status</th>\n",
       "      <th>tissue_or_organ_of_origin</th>\n",
       "      <th>days_to_last_follow_up</th>\n",
       "      <th>...</th>\n",
       "      <th>treatments_radiation_therapeutic_agents</th>\n",
       "      <th>treatments_radiation_treatment_or_therapy</th>\n",
       "      <th>treatments_radiation_days_to_treatment_end</th>\n",
       "      <th>treatments_radiation_days_to_treatment_start</th>\n",
       "      <th>treatments_radiation_regimen_or_line_of_therapy</th>\n",
       "      <th>treatments_radiation_treatment_effect</th>\n",
       "      <th>treatments_radiation_initial_disease_status</th>\n",
       "      <th>treatments_radiation_treatment_anatomic_site</th>\n",
       "      <th>treatments_radiation_treatment_outcome</th>\n",
       "      <th>bcr_patient_barcode</th>\n",
       "    </tr>\n",
       "  </thead>\n",
       "  <tbody>\n",
       "    <tr>\n",
       "      <th>0</th>\n",
       "      <td>TCGA-GBM</td>\n",
       "      <td>TCGA-06-0122</td>\n",
       "      <td>NaN</td>\n",
       "      <td>Not Reported</td>\n",
       "      <td>9440/3</td>\n",
       "      <td>0.0</td>\n",
       "      <td>NaN</td>\n",
       "      <td>not reported</td>\n",
       "      <td>Brain, NOS</td>\n",
       "      <td>8.0</td>\n",
       "      <td>...</td>\n",
       "      <td>NaN</td>\n",
       "      <td>not reported</td>\n",
       "      <td>NaN</td>\n",
       "      <td>NaN</td>\n",
       "      <td>NaN</td>\n",
       "      <td>NaN</td>\n",
       "      <td>NaN</td>\n",
       "      <td>NaN</td>\n",
       "      <td>NaN</td>\n",
       "      <td>TCGA-06-0122</td>\n",
       "    </tr>\n",
       "    <tr>\n",
       "      <th>1</th>\n",
       "      <td>TCGA-GBM</td>\n",
       "      <td>TCGA-02-0016</td>\n",
       "      <td>NaN</td>\n",
       "      <td>Not Reported</td>\n",
       "      <td>9440/3</td>\n",
       "      <td>0.0</td>\n",
       "      <td>NaN</td>\n",
       "      <td>not reported</td>\n",
       "      <td>Brain, NOS</td>\n",
       "      <td>1699.0</td>\n",
       "      <td>...</td>\n",
       "      <td>NaN</td>\n",
       "      <td>yes</td>\n",
       "      <td>NaN</td>\n",
       "      <td>NaN</td>\n",
       "      <td>NaN</td>\n",
       "      <td>NaN</td>\n",
       "      <td>NaN</td>\n",
       "      <td>NaN</td>\n",
       "      <td>NaN</td>\n",
       "      <td>TCGA-02-0016</td>\n",
       "    </tr>\n",
       "    <tr>\n",
       "      <th>2</th>\n",
       "      <td>TCGA-GBM</td>\n",
       "      <td>TCGA-06-2566</td>\n",
       "      <td>NaN</td>\n",
       "      <td>Not Reported</td>\n",
       "      <td>9440/3</td>\n",
       "      <td>0.0</td>\n",
       "      <td>NaN</td>\n",
       "      <td>not reported</td>\n",
       "      <td>Brain, NOS</td>\n",
       "      <td>182.0</td>\n",
       "      <td>...</td>\n",
       "      <td>NaN</td>\n",
       "      <td>yes</td>\n",
       "      <td>NaN</td>\n",
       "      <td>NaN</td>\n",
       "      <td>NaN</td>\n",
       "      <td>NaN</td>\n",
       "      <td>NaN</td>\n",
       "      <td>NaN</td>\n",
       "      <td>NaN</td>\n",
       "      <td>TCGA-06-2566</td>\n",
       "    </tr>\n",
       "    <tr>\n",
       "      <th>3</th>\n",
       "      <td>TCGA-GBM</td>\n",
       "      <td>TCGA-12-5301</td>\n",
       "      <td>NaN</td>\n",
       "      <td>Not Reported</td>\n",
       "      <td>9440/3</td>\n",
       "      <td>0.0</td>\n",
       "      <td>NaN</td>\n",
       "      <td>not reported</td>\n",
       "      <td>Brain, NOS</td>\n",
       "      <td>62.0</td>\n",
       "      <td>...</td>\n",
       "      <td>NaN</td>\n",
       "      <td>yes</td>\n",
       "      <td>NaN</td>\n",
       "      <td>NaN</td>\n",
       "      <td>NaN</td>\n",
       "      <td>NaN</td>\n",
       "      <td>NaN</td>\n",
       "      <td>NaN</td>\n",
       "      <td>NaN</td>\n",
       "      <td>TCGA-12-5301</td>\n",
       "    </tr>\n",
       "    <tr>\n",
       "      <th>4</th>\n",
       "      <td>TCGA-GBM</td>\n",
       "      <td>TCGA-41-2573</td>\n",
       "      <td>NaN</td>\n",
       "      <td>Not Reported</td>\n",
       "      <td>9440/3</td>\n",
       "      <td>0.0</td>\n",
       "      <td>NaN</td>\n",
       "      <td>not reported</td>\n",
       "      <td>Brain, NOS</td>\n",
       "      <td>272.0</td>\n",
       "      <td>...</td>\n",
       "      <td>NaN</td>\n",
       "      <td>yes</td>\n",
       "      <td>NaN</td>\n",
       "      <td>NaN</td>\n",
       "      <td>NaN</td>\n",
       "      <td>NaN</td>\n",
       "      <td>NaN</td>\n",
       "      <td>NaN</td>\n",
       "      <td>NaN</td>\n",
       "      <td>TCGA-41-2573</td>\n",
       "    </tr>\n",
       "  </tbody>\n",
       "</table>\n",
       "<p>5 rows × 141 columns</p>\n",
       "</div>"
      ],
      "text/plain": [
       "    project  submitter_id  days_to_recurrence synchronous_malignancy  \\\n",
       "0  TCGA-GBM  TCGA-06-0122                 NaN           Not Reported   \n",
       "1  TCGA-GBM  TCGA-02-0016                 NaN           Not Reported   \n",
       "2  TCGA-GBM  TCGA-06-2566                 NaN           Not Reported   \n",
       "3  TCGA-GBM  TCGA-12-5301                 NaN           Not Reported   \n",
       "4  TCGA-GBM  TCGA-41-2573                 NaN           Not Reported   \n",
       "\n",
       "  morphology  days_to_diagnosis created_datetime last_known_disease_status  \\\n",
       "0     9440/3                0.0              NaN              not reported   \n",
       "1     9440/3                0.0              NaN              not reported   \n",
       "2     9440/3                0.0              NaN              not reported   \n",
       "3     9440/3                0.0              NaN              not reported   \n",
       "4     9440/3                0.0              NaN              not reported   \n",
       "\n",
       "  tissue_or_organ_of_origin  days_to_last_follow_up  ...  \\\n",
       "0                Brain, NOS                     8.0  ...   \n",
       "1                Brain, NOS                  1699.0  ...   \n",
       "2                Brain, NOS                   182.0  ...   \n",
       "3                Brain, NOS                    62.0  ...   \n",
       "4                Brain, NOS                   272.0  ...   \n",
       "\n",
       "   treatments_radiation_therapeutic_agents  \\\n",
       "0                                      NaN   \n",
       "1                                      NaN   \n",
       "2                                      NaN   \n",
       "3                                      NaN   \n",
       "4                                      NaN   \n",
       "\n",
       "  treatments_radiation_treatment_or_therapy  \\\n",
       "0                              not reported   \n",
       "1                                       yes   \n",
       "2                                       yes   \n",
       "3                                       yes   \n",
       "4                                       yes   \n",
       "\n",
       "  treatments_radiation_days_to_treatment_end  \\\n",
       "0                                        NaN   \n",
       "1                                        NaN   \n",
       "2                                        NaN   \n",
       "3                                        NaN   \n",
       "4                                        NaN   \n",
       "\n",
       "  treatments_radiation_days_to_treatment_start  \\\n",
       "0                                          NaN   \n",
       "1                                          NaN   \n",
       "2                                          NaN   \n",
       "3                                          NaN   \n",
       "4                                          NaN   \n",
       "\n",
       "  treatments_radiation_regimen_or_line_of_therapy  \\\n",
       "0                                             NaN   \n",
       "1                                             NaN   \n",
       "2                                             NaN   \n",
       "3                                             NaN   \n",
       "4                                             NaN   \n",
       "\n",
       "  treatments_radiation_treatment_effect  \\\n",
       "0                                   NaN   \n",
       "1                                   NaN   \n",
       "2                                   NaN   \n",
       "3                                   NaN   \n",
       "4                                   NaN   \n",
       "\n",
       "   treatments_radiation_initial_disease_status  \\\n",
       "0                                          NaN   \n",
       "1                                          NaN   \n",
       "2                                          NaN   \n",
       "3                                          NaN   \n",
       "4                                          NaN   \n",
       "\n",
       "  treatments_radiation_treatment_anatomic_site  \\\n",
       "0                                          NaN   \n",
       "1                                          NaN   \n",
       "2                                          NaN   \n",
       "3                                          NaN   \n",
       "4                                          NaN   \n",
       "\n",
       "  treatments_radiation_treatment_outcome bcr_patient_barcode  \n",
       "0                                    NaN        TCGA-06-0122  \n",
       "1                                    NaN        TCGA-02-0016  \n",
       "2                                    NaN        TCGA-06-2566  \n",
       "3                                    NaN        TCGA-12-5301  \n",
       "4                                    NaN        TCGA-41-2573  \n",
       "\n",
       "[5 rows x 141 columns]"
      ]
     },
     "execution_count": 2,
     "metadata": {},
     "output_type": "execute_result"
    }
   ],
   "source": [
    "clinica_combinada = pd.read_csv(\"clinica_combinada.csv\", sep=';')\n",
    "#clinica_combinada.head()"
   ]
  },
  {
   "cell_type": "code",
   "execution_count": 3,
   "id": "a7d1f89f",
   "metadata": {},
   "outputs": [],
   "source": [
    "# glioblastoma = pd.read_csv(\"TCGA-GBM.csv\", sep=';')\n",
    "# glioblastoma.head()\n",
    "# otros_gliomas = pd.read_csv(\"TCGA-LGG.csv\", sep=';')\n",
    "# otros_gliomas.head()"
   ]
  },
  {
   "cell_type": "markdown",
   "id": "88fc6ec0",
   "metadata": {},
   "source": [
    "### 2. Limpieza y Normalización del Dataset \"clinica_combinada.csv\""
   ]
  },
  {
   "cell_type": "markdown",
   "id": "d7e721ee",
   "metadata": {},
   "source": [
    "Cogemos aquellas columnas que consideramos importantes. Lo hago a ojo, viendo un poco el nombre de la variable y los datos que contiene"
   ]
  },
  {
   "cell_type": "code",
   "execution_count": 4,
   "id": "d22ef739",
   "metadata": {},
   "outputs": [
    {
     "data": {
      "text/html": [
       "<div>\n",
       "<style scoped>\n",
       "    .dataframe tbody tr th:only-of-type {\n",
       "        vertical-align: middle;\n",
       "    }\n",
       "\n",
       "    .dataframe tbody tr th {\n",
       "        vertical-align: top;\n",
       "    }\n",
       "\n",
       "    .dataframe thead th {\n",
       "        text-align: right;\n",
       "    }\n",
       "</style>\n",
       "<table border=\"1\" class=\"dataframe\">\n",
       "  <thead>\n",
       "    <tr style=\"text-align: right;\">\n",
       "      <th></th>\n",
       "      <th>project</th>\n",
       "      <th>submitter_id</th>\n",
       "      <th>morphology</th>\n",
       "      <th>tissue_or_organ_of_origin</th>\n",
       "      <th>days_to_last_follow_up</th>\n",
       "      <th>primary_diagnosis</th>\n",
       "      <th>year_of_diagnosis</th>\n",
       "      <th>prior_treatment</th>\n",
       "      <th>race</th>\n",
       "      <th>gender</th>\n",
       "      <th>ethnicity</th>\n",
       "      <th>vital_status</th>\n",
       "      <th>age_at_index</th>\n",
       "      <th>days_to_death</th>\n",
       "      <th>year_of_death</th>\n",
       "      <th>treatments_pharmaceutical_treatment_or_therapy</th>\n",
       "      <th>treatments_radiation_treatment_or_therapy</th>\n",
       "    </tr>\n",
       "  </thead>\n",
       "  <tbody>\n",
       "    <tr>\n",
       "      <th>0</th>\n",
       "      <td>TCGA-GBM</td>\n",
       "      <td>TCGA-06-0122</td>\n",
       "      <td>9440/3</td>\n",
       "      <td>Brain, NOS</td>\n",
       "      <td>8.0</td>\n",
       "      <td>Glioblastoma</td>\n",
       "      <td>2006.0</td>\n",
       "      <td>No</td>\n",
       "      <td>white</td>\n",
       "      <td>female</td>\n",
       "      <td>not hispanic or latino</td>\n",
       "      <td>Dead</td>\n",
       "      <td>84.0</td>\n",
       "      <td>187.0</td>\n",
       "      <td>2006.0</td>\n",
       "      <td>not reported</td>\n",
       "      <td>not reported</td>\n",
       "    </tr>\n",
       "    <tr>\n",
       "      <th>1</th>\n",
       "      <td>TCGA-GBM</td>\n",
       "      <td>TCGA-02-0016</td>\n",
       "      <td>9440/3</td>\n",
       "      <td>Brain, NOS</td>\n",
       "      <td>1699.0</td>\n",
       "      <td>Glioblastoma</td>\n",
       "      <td>2004.0</td>\n",
       "      <td>No</td>\n",
       "      <td>white</td>\n",
       "      <td>male</td>\n",
       "      <td>not hispanic or latino</td>\n",
       "      <td>Dead</td>\n",
       "      <td>50.0</td>\n",
       "      <td>2648.0</td>\n",
       "      <td>NaN</td>\n",
       "      <td>yes</td>\n",
       "      <td>yes</td>\n",
       "    </tr>\n",
       "    <tr>\n",
       "      <th>2</th>\n",
       "      <td>TCGA-GBM</td>\n",
       "      <td>TCGA-06-2566</td>\n",
       "      <td>9440/3</td>\n",
       "      <td>Brain, NOS</td>\n",
       "      <td>182.0</td>\n",
       "      <td>Glioblastoma</td>\n",
       "      <td>2009.0</td>\n",
       "      <td>No</td>\n",
       "      <td>white</td>\n",
       "      <td>female</td>\n",
       "      <td>not hispanic or latino</td>\n",
       "      <td>Dead</td>\n",
       "      <td>23.0</td>\n",
       "      <td>182.0</td>\n",
       "      <td>2009.0</td>\n",
       "      <td>yes</td>\n",
       "      <td>yes</td>\n",
       "    </tr>\n",
       "    <tr>\n",
       "      <th>3</th>\n",
       "      <td>TCGA-GBM</td>\n",
       "      <td>TCGA-12-5301</td>\n",
       "      <td>9440/3</td>\n",
       "      <td>Brain, NOS</td>\n",
       "      <td>62.0</td>\n",
       "      <td>Glioblastoma</td>\n",
       "      <td>2010.0</td>\n",
       "      <td>No</td>\n",
       "      <td>white</td>\n",
       "      <td>male</td>\n",
       "      <td>not hispanic or latino</td>\n",
       "      <td>Dead</td>\n",
       "      <td>59.0</td>\n",
       "      <td>62.0</td>\n",
       "      <td>2010.0</td>\n",
       "      <td>yes</td>\n",
       "      <td>yes</td>\n",
       "    </tr>\n",
       "    <tr>\n",
       "      <th>4</th>\n",
       "      <td>TCGA-GBM</td>\n",
       "      <td>TCGA-41-2573</td>\n",
       "      <td>9440/3</td>\n",
       "      <td>Brain, NOS</td>\n",
       "      <td>272.0</td>\n",
       "      <td>Glioblastoma</td>\n",
       "      <td>2009.0</td>\n",
       "      <td>No</td>\n",
       "      <td>white</td>\n",
       "      <td>male</td>\n",
       "      <td>not hispanic or latino</td>\n",
       "      <td>Alive</td>\n",
       "      <td>59.0</td>\n",
       "      <td>NaN</td>\n",
       "      <td>NaN</td>\n",
       "      <td>yes</td>\n",
       "      <td>yes</td>\n",
       "    </tr>\n",
       "    <tr>\n",
       "      <th>5</th>\n",
       "      <td>TCGA-GBM</td>\n",
       "      <td>TCGA-12-0780</td>\n",
       "      <td>9440/3</td>\n",
       "      <td>Brain, NOS</td>\n",
       "      <td>434.0</td>\n",
       "      <td>Glioblastoma</td>\n",
       "      <td>2006.0</td>\n",
       "      <td>No</td>\n",
       "      <td>white</td>\n",
       "      <td>female</td>\n",
       "      <td>not hispanic or latino</td>\n",
       "      <td>Dead</td>\n",
       "      <td>51.0</td>\n",
       "      <td>452.0</td>\n",
       "      <td>2007.0</td>\n",
       "      <td>yes</td>\n",
       "      <td>yes</td>\n",
       "    </tr>\n",
       "    <tr>\n",
       "      <th>6</th>\n",
       "      <td>TCGA-GBM</td>\n",
       "      <td>TCGA-06-0167</td>\n",
       "      <td>9440/3</td>\n",
       "      <td>Brain, NOS</td>\n",
       "      <td>NaN</td>\n",
       "      <td>Glioblastoma</td>\n",
       "      <td>2001.0</td>\n",
       "      <td>No</td>\n",
       "      <td>black or african american</td>\n",
       "      <td>male</td>\n",
       "      <td>not hispanic or latino</td>\n",
       "      <td>Dead</td>\n",
       "      <td>44.0</td>\n",
       "      <td>347.0</td>\n",
       "      <td>2001.0</td>\n",
       "      <td>yes</td>\n",
       "      <td>yes</td>\n",
       "    </tr>\n",
       "    <tr>\n",
       "      <th>7</th>\n",
       "      <td>TCGA-GBM</td>\n",
       "      <td>TCGA-14-0786</td>\n",
       "      <td>9440/3</td>\n",
       "      <td>Brain, NOS</td>\n",
       "      <td>701.0</td>\n",
       "      <td>Glioblastoma</td>\n",
       "      <td>1998.0</td>\n",
       "      <td>No</td>\n",
       "      <td>white</td>\n",
       "      <td>female</td>\n",
       "      <td>not reported</td>\n",
       "      <td>Dead</td>\n",
       "      <td>50.0</td>\n",
       "      <td>701.0</td>\n",
       "      <td>1999.0</td>\n",
       "      <td>yes</td>\n",
       "      <td>yes</td>\n",
       "    </tr>\n",
       "    <tr>\n",
       "      <th>8</th>\n",
       "      <td>TCGA-GBM</td>\n",
       "      <td>TCGA-19-A6J4</td>\n",
       "      <td>9440/3</td>\n",
       "      <td>Brain, NOS</td>\n",
       "      <td>NaN</td>\n",
       "      <td>Glioblastoma</td>\n",
       "      <td>2013.0</td>\n",
       "      <td>No</td>\n",
       "      <td>black or african american</td>\n",
       "      <td>male</td>\n",
       "      <td>not hispanic or latino</td>\n",
       "      <td>Dead</td>\n",
       "      <td>68.0</td>\n",
       "      <td>121.0</td>\n",
       "      <td>2013.0</td>\n",
       "      <td>not reported</td>\n",
       "      <td>not reported</td>\n",
       "    </tr>\n",
       "    <tr>\n",
       "      <th>9</th>\n",
       "      <td>TCGA-GBM</td>\n",
       "      <td>TCGA-06-0413</td>\n",
       "      <td>9440/3</td>\n",
       "      <td>Brain, NOS</td>\n",
       "      <td>5.0</td>\n",
       "      <td>Glioblastoma</td>\n",
       "      <td>1995.0</td>\n",
       "      <td>No</td>\n",
       "      <td>white</td>\n",
       "      <td>female</td>\n",
       "      <td>not hispanic or latino</td>\n",
       "      <td>Dead</td>\n",
       "      <td>77.0</td>\n",
       "      <td>96.0</td>\n",
       "      <td>1995.0</td>\n",
       "      <td>no</td>\n",
       "      <td>no</td>\n",
       "    </tr>\n",
       "  </tbody>\n",
       "</table>\n",
       "</div>"
      ],
      "text/plain": [
       "    project  submitter_id morphology tissue_or_organ_of_origin  \\\n",
       "0  TCGA-GBM  TCGA-06-0122     9440/3                Brain, NOS   \n",
       "1  TCGA-GBM  TCGA-02-0016     9440/3                Brain, NOS   \n",
       "2  TCGA-GBM  TCGA-06-2566     9440/3                Brain, NOS   \n",
       "3  TCGA-GBM  TCGA-12-5301     9440/3                Brain, NOS   \n",
       "4  TCGA-GBM  TCGA-41-2573     9440/3                Brain, NOS   \n",
       "5  TCGA-GBM  TCGA-12-0780     9440/3                Brain, NOS   \n",
       "6  TCGA-GBM  TCGA-06-0167     9440/3                Brain, NOS   \n",
       "7  TCGA-GBM  TCGA-14-0786     9440/3                Brain, NOS   \n",
       "8  TCGA-GBM  TCGA-19-A6J4     9440/3                Brain, NOS   \n",
       "9  TCGA-GBM  TCGA-06-0413     9440/3                Brain, NOS   \n",
       "\n",
       "   days_to_last_follow_up primary_diagnosis  year_of_diagnosis  \\\n",
       "0                     8.0      Glioblastoma             2006.0   \n",
       "1                  1699.0      Glioblastoma             2004.0   \n",
       "2                   182.0      Glioblastoma             2009.0   \n",
       "3                    62.0      Glioblastoma             2010.0   \n",
       "4                   272.0      Glioblastoma             2009.0   \n",
       "5                   434.0      Glioblastoma             2006.0   \n",
       "6                     NaN      Glioblastoma             2001.0   \n",
       "7                   701.0      Glioblastoma             1998.0   \n",
       "8                     NaN      Glioblastoma             2013.0   \n",
       "9                     5.0      Glioblastoma             1995.0   \n",
       "\n",
       "  prior_treatment                       race  gender               ethnicity  \\\n",
       "0              No                      white  female  not hispanic or latino   \n",
       "1              No                      white    male  not hispanic or latino   \n",
       "2              No                      white  female  not hispanic or latino   \n",
       "3              No                      white    male  not hispanic or latino   \n",
       "4              No                      white    male  not hispanic or latino   \n",
       "5              No                      white  female  not hispanic or latino   \n",
       "6              No  black or african american    male  not hispanic or latino   \n",
       "7              No                      white  female            not reported   \n",
       "8              No  black or african american    male  not hispanic or latino   \n",
       "9              No                      white  female  not hispanic or latino   \n",
       "\n",
       "  vital_status  age_at_index  days_to_death  year_of_death  \\\n",
       "0         Dead          84.0          187.0         2006.0   \n",
       "1         Dead          50.0         2648.0            NaN   \n",
       "2         Dead          23.0          182.0         2009.0   \n",
       "3         Dead          59.0           62.0         2010.0   \n",
       "4        Alive          59.0            NaN            NaN   \n",
       "5         Dead          51.0          452.0         2007.0   \n",
       "6         Dead          44.0          347.0         2001.0   \n",
       "7         Dead          50.0          701.0         1999.0   \n",
       "8         Dead          68.0          121.0         2013.0   \n",
       "9         Dead          77.0           96.0         1995.0   \n",
       "\n",
       "  treatments_pharmaceutical_treatment_or_therapy  \\\n",
       "0                                   not reported   \n",
       "1                                            yes   \n",
       "2                                            yes   \n",
       "3                                            yes   \n",
       "4                                            yes   \n",
       "5                                            yes   \n",
       "6                                            yes   \n",
       "7                                            yes   \n",
       "8                                   not reported   \n",
       "9                                             no   \n",
       "\n",
       "  treatments_radiation_treatment_or_therapy  \n",
       "0                              not reported  \n",
       "1                                       yes  \n",
       "2                                       yes  \n",
       "3                                       yes  \n",
       "4                                       yes  \n",
       "5                                       yes  \n",
       "6                                       yes  \n",
       "7                                       yes  \n",
       "8                              not reported  \n",
       "9                                        no  "
      ]
     },
     "execution_count": 4,
     "metadata": {},
     "output_type": "execute_result"
    }
   ],
   "source": [
    "datos_clinica = clinica_combinada.loc[:, [\"project\", \"submitter_id\", \"morphology\", \"tissue_or_organ_of_origin\", \"days_to_last_follow_up\", \"primary_diagnosis\", \"year_of_diagnosis\", \"prior_treatment\", \"race\", \"gender\", \"ethnicity\", \"vital_status\",\"age_at_index\", \"days_to_death\", \"year_of_death\", \"treatments_pharmaceutical_treatment_or_therapy\", \"treatments_radiation_treatment_or_therapy\"]]\n",
    "#datos_clinica.head(10)"
   ]
  },
  {
   "cell_type": "markdown",
   "id": "ab159296",
   "metadata": {},
   "source": [
    "Comprobamos la tipología de los datos y si hay registros con NAs:"
   ]
  },
  {
   "cell_type": "code",
   "execution_count": 5,
   "id": "ee11dda2",
   "metadata": {},
   "outputs": [
    {
     "data": {
      "text/plain": [
       "project                                            object\n",
       "submitter_id                                       object\n",
       "morphology                                         object\n",
       "tissue_or_organ_of_origin                          object\n",
       "days_to_last_follow_up                            float64\n",
       "primary_diagnosis                                  object\n",
       "year_of_diagnosis                                 float64\n",
       "prior_treatment                                    object\n",
       "race                                               object\n",
       "gender                                             object\n",
       "ethnicity                                          object\n",
       "vital_status                                       object\n",
       "age_at_index                                      float64\n",
       "days_to_death                                     float64\n",
       "year_of_death                                     float64\n",
       "treatments_pharmaceutical_treatment_or_therapy     object\n",
       "treatments_radiation_treatment_or_therapy          object\n",
       "dtype: object"
      ]
     },
     "execution_count": 5,
     "metadata": {},
     "output_type": "execute_result"
    }
   ],
   "source": [
    "tipos_datos = datos_clinica.dtypes\n",
    "tipos_datos"
   ]
  },
  {
   "cell_type": "code",
   "execution_count": 6,
   "id": "accbdc14",
   "metadata": {},
   "outputs": [
    {
     "data": {
      "text/plain": [
       "project                                           False\n",
       "submitter_id                                      False\n",
       "morphology                                         True\n",
       "tissue_or_organ_of_origin                          True\n",
       "days_to_last_follow_up                             True\n",
       "primary_diagnosis                                  True\n",
       "year_of_diagnosis                                  True\n",
       "prior_treatment                                    True\n",
       "race                                               True\n",
       "gender                                             True\n",
       "ethnicity                                          True\n",
       "vital_status                                       True\n",
       "age_at_index                                       True\n",
       "days_to_death                                      True\n",
       "year_of_death                                      True\n",
       "treatments_pharmaceutical_treatment_or_therapy     True\n",
       "treatments_radiation_treatment_or_therapy          True\n",
       "dtype: bool"
      ]
     },
     "execution_count": 6,
     "metadata": {},
     "output_type": "execute_result"
    }
   ],
   "source": [
    "hay_NAs = datos_clinica.isna().any()\n",
    "hay_NAs"
   ]
  },
  {
   "cell_type": "markdown",
   "id": "2bbc5217",
   "metadata": {},
   "source": [
    "#### 2.1 Normalización Datos Cuantitativos"
   ]
  },
  {
   "cell_type": "markdown",
   "id": "c97e2a71",
   "metadata": {},
   "source": [
    "A continuación, trataremos de normalizar los datos, por lo que el primer paso será tratar de las variables numéricas, los registros que contengan Valores Nulos.\n",
    "\n",
    "Primero, seleccionamos las columnas numéricas y las pasamos a lista:"
   ]
  },
  {
   "cell_type": "code",
   "execution_count": 7,
   "id": "18895455",
   "metadata": {},
   "outputs": [],
   "source": [
    "datos_clinica_numericos = datos_clinica.select_dtypes(include=('float64'))\n",
    "columnas_numericas = datos_clinica_numericos.columns.tolist()"
   ]
  },
  {
   "cell_type": "markdown",
   "id": "f52d9844",
   "metadata": {},
   "source": [
    "Ahora eliminamos del Conjunto de Datos, aquellos registros que no contienen datos numéricos:"
   ]
  },
  {
   "cell_type": "code",
   "execution_count": 8,
   "id": "63646aa1",
   "metadata": {},
   "outputs": [
    {
     "data": {
      "text/html": [
       "<div>\n",
       "<style scoped>\n",
       "    .dataframe tbody tr th:only-of-type {\n",
       "        vertical-align: middle;\n",
       "    }\n",
       "\n",
       "    .dataframe tbody tr th {\n",
       "        vertical-align: top;\n",
       "    }\n",
       "\n",
       "    .dataframe thead th {\n",
       "        text-align: right;\n",
       "    }\n",
       "</style>\n",
       "<table border=\"1\" class=\"dataframe\">\n",
       "  <thead>\n",
       "    <tr style=\"text-align: right;\">\n",
       "      <th></th>\n",
       "      <th>project</th>\n",
       "      <th>submitter_id</th>\n",
       "      <th>morphology</th>\n",
       "      <th>tissue_or_organ_of_origin</th>\n",
       "      <th>days_to_last_follow_up</th>\n",
       "      <th>primary_diagnosis</th>\n",
       "      <th>year_of_diagnosis</th>\n",
       "      <th>prior_treatment</th>\n",
       "      <th>race</th>\n",
       "      <th>gender</th>\n",
       "      <th>ethnicity</th>\n",
       "      <th>vital_status</th>\n",
       "      <th>age_at_index</th>\n",
       "      <th>days_to_death</th>\n",
       "      <th>year_of_death</th>\n",
       "      <th>treatments_pharmaceutical_treatment_or_therapy</th>\n",
       "      <th>treatments_radiation_treatment_or_therapy</th>\n",
       "    </tr>\n",
       "  </thead>\n",
       "  <tbody>\n",
       "    <tr>\n",
       "      <th>0</th>\n",
       "      <td>TCGA-GBM</td>\n",
       "      <td>TCGA-06-0122</td>\n",
       "      <td>9440/3</td>\n",
       "      <td>Brain, NOS</td>\n",
       "      <td>8.0</td>\n",
       "      <td>Glioblastoma</td>\n",
       "      <td>2006.0</td>\n",
       "      <td>No</td>\n",
       "      <td>white</td>\n",
       "      <td>female</td>\n",
       "      <td>not hispanic or latino</td>\n",
       "      <td>Dead</td>\n",
       "      <td>84.0</td>\n",
       "      <td>187.0</td>\n",
       "      <td>2006.0</td>\n",
       "      <td>not reported</td>\n",
       "      <td>not reported</td>\n",
       "    </tr>\n",
       "    <tr>\n",
       "      <th>1</th>\n",
       "      <td>TCGA-GBM</td>\n",
       "      <td>TCGA-02-0016</td>\n",
       "      <td>9440/3</td>\n",
       "      <td>Brain, NOS</td>\n",
       "      <td>1699.0</td>\n",
       "      <td>Glioblastoma</td>\n",
       "      <td>2004.0</td>\n",
       "      <td>No</td>\n",
       "      <td>white</td>\n",
       "      <td>male</td>\n",
       "      <td>not hispanic or latino</td>\n",
       "      <td>Dead</td>\n",
       "      <td>50.0</td>\n",
       "      <td>2648.0</td>\n",
       "      <td>NaN</td>\n",
       "      <td>yes</td>\n",
       "      <td>yes</td>\n",
       "    </tr>\n",
       "    <tr>\n",
       "      <th>2</th>\n",
       "      <td>TCGA-GBM</td>\n",
       "      <td>TCGA-06-2566</td>\n",
       "      <td>9440/3</td>\n",
       "      <td>Brain, NOS</td>\n",
       "      <td>182.0</td>\n",
       "      <td>Glioblastoma</td>\n",
       "      <td>2009.0</td>\n",
       "      <td>No</td>\n",
       "      <td>white</td>\n",
       "      <td>female</td>\n",
       "      <td>not hispanic or latino</td>\n",
       "      <td>Dead</td>\n",
       "      <td>23.0</td>\n",
       "      <td>182.0</td>\n",
       "      <td>2009.0</td>\n",
       "      <td>yes</td>\n",
       "      <td>yes</td>\n",
       "    </tr>\n",
       "    <tr>\n",
       "      <th>3</th>\n",
       "      <td>TCGA-GBM</td>\n",
       "      <td>TCGA-12-5301</td>\n",
       "      <td>9440/3</td>\n",
       "      <td>Brain, NOS</td>\n",
       "      <td>62.0</td>\n",
       "      <td>Glioblastoma</td>\n",
       "      <td>2010.0</td>\n",
       "      <td>No</td>\n",
       "      <td>white</td>\n",
       "      <td>male</td>\n",
       "      <td>not hispanic or latino</td>\n",
       "      <td>Dead</td>\n",
       "      <td>59.0</td>\n",
       "      <td>62.0</td>\n",
       "      <td>2010.0</td>\n",
       "      <td>yes</td>\n",
       "      <td>yes</td>\n",
       "    </tr>\n",
       "    <tr>\n",
       "      <th>4</th>\n",
       "      <td>TCGA-GBM</td>\n",
       "      <td>TCGA-41-2573</td>\n",
       "      <td>9440/3</td>\n",
       "      <td>Brain, NOS</td>\n",
       "      <td>272.0</td>\n",
       "      <td>Glioblastoma</td>\n",
       "      <td>2009.0</td>\n",
       "      <td>No</td>\n",
       "      <td>white</td>\n",
       "      <td>male</td>\n",
       "      <td>not hispanic or latino</td>\n",
       "      <td>Alive</td>\n",
       "      <td>59.0</td>\n",
       "      <td>NaN</td>\n",
       "      <td>NaN</td>\n",
       "      <td>yes</td>\n",
       "      <td>yes</td>\n",
       "    </tr>\n",
       "    <tr>\n",
       "      <th>5</th>\n",
       "      <td>TCGA-GBM</td>\n",
       "      <td>TCGA-12-0780</td>\n",
       "      <td>9440/3</td>\n",
       "      <td>Brain, NOS</td>\n",
       "      <td>434.0</td>\n",
       "      <td>Glioblastoma</td>\n",
       "      <td>2006.0</td>\n",
       "      <td>No</td>\n",
       "      <td>white</td>\n",
       "      <td>female</td>\n",
       "      <td>not hispanic or latino</td>\n",
       "      <td>Dead</td>\n",
       "      <td>51.0</td>\n",
       "      <td>452.0</td>\n",
       "      <td>2007.0</td>\n",
       "      <td>yes</td>\n",
       "      <td>yes</td>\n",
       "    </tr>\n",
       "    <tr>\n",
       "      <th>6</th>\n",
       "      <td>TCGA-GBM</td>\n",
       "      <td>TCGA-06-0167</td>\n",
       "      <td>9440/3</td>\n",
       "      <td>Brain, NOS</td>\n",
       "      <td>NaN</td>\n",
       "      <td>Glioblastoma</td>\n",
       "      <td>2001.0</td>\n",
       "      <td>No</td>\n",
       "      <td>black or african american</td>\n",
       "      <td>male</td>\n",
       "      <td>not hispanic or latino</td>\n",
       "      <td>Dead</td>\n",
       "      <td>44.0</td>\n",
       "      <td>347.0</td>\n",
       "      <td>2001.0</td>\n",
       "      <td>yes</td>\n",
       "      <td>yes</td>\n",
       "    </tr>\n",
       "    <tr>\n",
       "      <th>7</th>\n",
       "      <td>TCGA-GBM</td>\n",
       "      <td>TCGA-14-0786</td>\n",
       "      <td>9440/3</td>\n",
       "      <td>Brain, NOS</td>\n",
       "      <td>701.0</td>\n",
       "      <td>Glioblastoma</td>\n",
       "      <td>1998.0</td>\n",
       "      <td>No</td>\n",
       "      <td>white</td>\n",
       "      <td>female</td>\n",
       "      <td>not reported</td>\n",
       "      <td>Dead</td>\n",
       "      <td>50.0</td>\n",
       "      <td>701.0</td>\n",
       "      <td>1999.0</td>\n",
       "      <td>yes</td>\n",
       "      <td>yes</td>\n",
       "    </tr>\n",
       "    <tr>\n",
       "      <th>8</th>\n",
       "      <td>TCGA-GBM</td>\n",
       "      <td>TCGA-19-A6J4</td>\n",
       "      <td>9440/3</td>\n",
       "      <td>Brain, NOS</td>\n",
       "      <td>NaN</td>\n",
       "      <td>Glioblastoma</td>\n",
       "      <td>2013.0</td>\n",
       "      <td>No</td>\n",
       "      <td>black or african american</td>\n",
       "      <td>male</td>\n",
       "      <td>not hispanic or latino</td>\n",
       "      <td>Dead</td>\n",
       "      <td>68.0</td>\n",
       "      <td>121.0</td>\n",
       "      <td>2013.0</td>\n",
       "      <td>not reported</td>\n",
       "      <td>not reported</td>\n",
       "    </tr>\n",
       "    <tr>\n",
       "      <th>9</th>\n",
       "      <td>TCGA-GBM</td>\n",
       "      <td>TCGA-06-0413</td>\n",
       "      <td>9440/3</td>\n",
       "      <td>Brain, NOS</td>\n",
       "      <td>5.0</td>\n",
       "      <td>Glioblastoma</td>\n",
       "      <td>1995.0</td>\n",
       "      <td>No</td>\n",
       "      <td>white</td>\n",
       "      <td>female</td>\n",
       "      <td>not hispanic or latino</td>\n",
       "      <td>Dead</td>\n",
       "      <td>77.0</td>\n",
       "      <td>96.0</td>\n",
       "      <td>1995.0</td>\n",
       "      <td>no</td>\n",
       "      <td>no</td>\n",
       "    </tr>\n",
       "  </tbody>\n",
       "</table>\n",
       "</div>"
      ],
      "text/plain": [
       "    project  submitter_id morphology tissue_or_organ_of_origin  \\\n",
       "0  TCGA-GBM  TCGA-06-0122     9440/3                Brain, NOS   \n",
       "1  TCGA-GBM  TCGA-02-0016     9440/3                Brain, NOS   \n",
       "2  TCGA-GBM  TCGA-06-2566     9440/3                Brain, NOS   \n",
       "3  TCGA-GBM  TCGA-12-5301     9440/3                Brain, NOS   \n",
       "4  TCGA-GBM  TCGA-41-2573     9440/3                Brain, NOS   \n",
       "5  TCGA-GBM  TCGA-12-0780     9440/3                Brain, NOS   \n",
       "6  TCGA-GBM  TCGA-06-0167     9440/3                Brain, NOS   \n",
       "7  TCGA-GBM  TCGA-14-0786     9440/3                Brain, NOS   \n",
       "8  TCGA-GBM  TCGA-19-A6J4     9440/3                Brain, NOS   \n",
       "9  TCGA-GBM  TCGA-06-0413     9440/3                Brain, NOS   \n",
       "\n",
       "   days_to_last_follow_up primary_diagnosis  year_of_diagnosis  \\\n",
       "0                     8.0      Glioblastoma             2006.0   \n",
       "1                  1699.0      Glioblastoma             2004.0   \n",
       "2                   182.0      Glioblastoma             2009.0   \n",
       "3                    62.0      Glioblastoma             2010.0   \n",
       "4                   272.0      Glioblastoma             2009.0   \n",
       "5                   434.0      Glioblastoma             2006.0   \n",
       "6                     NaN      Glioblastoma             2001.0   \n",
       "7                   701.0      Glioblastoma             1998.0   \n",
       "8                     NaN      Glioblastoma             2013.0   \n",
       "9                     5.0      Glioblastoma             1995.0   \n",
       "\n",
       "  prior_treatment                       race  gender               ethnicity  \\\n",
       "0              No                      white  female  not hispanic or latino   \n",
       "1              No                      white    male  not hispanic or latino   \n",
       "2              No                      white  female  not hispanic or latino   \n",
       "3              No                      white    male  not hispanic or latino   \n",
       "4              No                      white    male  not hispanic or latino   \n",
       "5              No                      white  female  not hispanic or latino   \n",
       "6              No  black or african american    male  not hispanic or latino   \n",
       "7              No                      white  female            not reported   \n",
       "8              No  black or african american    male  not hispanic or latino   \n",
       "9              No                      white  female  not hispanic or latino   \n",
       "\n",
       "  vital_status  age_at_index  days_to_death  year_of_death  \\\n",
       "0         Dead          84.0          187.0         2006.0   \n",
       "1         Dead          50.0         2648.0            NaN   \n",
       "2         Dead          23.0          182.0         2009.0   \n",
       "3         Dead          59.0           62.0         2010.0   \n",
       "4        Alive          59.0            NaN            NaN   \n",
       "5         Dead          51.0          452.0         2007.0   \n",
       "6         Dead          44.0          347.0         2001.0   \n",
       "7         Dead          50.0          701.0         1999.0   \n",
       "8         Dead          68.0          121.0         2013.0   \n",
       "9         Dead          77.0           96.0         1995.0   \n",
       "\n",
       "  treatments_pharmaceutical_treatment_or_therapy  \\\n",
       "0                                   not reported   \n",
       "1                                            yes   \n",
       "2                                            yes   \n",
       "3                                            yes   \n",
       "4                                            yes   \n",
       "5                                            yes   \n",
       "6                                            yes   \n",
       "7                                            yes   \n",
       "8                                   not reported   \n",
       "9                                             no   \n",
       "\n",
       "  treatments_radiation_treatment_or_therapy  \n",
       "0                              not reported  \n",
       "1                                       yes  \n",
       "2                                       yes  \n",
       "3                                       yes  \n",
       "4                                       yes  \n",
       "5                                       yes  \n",
       "6                                       yes  \n",
       "7                                       yes  \n",
       "8                              not reported  \n",
       "9                                        no  "
      ]
     },
     "execution_count": 8,
     "metadata": {},
     "output_type": "execute_result"
    }
   ],
   "source": [
    "datos_clinica.dropna(subset=columnas_numericas, how='all', inplace=True)\n",
    "datos_clinica.head(10)"
   ]
  },
  {
   "cell_type": "markdown",
   "id": "aa1c48e7",
   "metadata": {},
   "source": [
    "Ahora creamos un nuevo dataframe con las variables numéricas:"
   ]
  },
  {
   "cell_type": "code",
   "execution_count": 9,
   "id": "8bfecfd1",
   "metadata": {},
   "outputs": [
    {
     "data": {
      "text/html": [
       "<div>\n",
       "<style scoped>\n",
       "    .dataframe tbody tr th:only-of-type {\n",
       "        vertical-align: middle;\n",
       "    }\n",
       "\n",
       "    .dataframe tbody tr th {\n",
       "        vertical-align: top;\n",
       "    }\n",
       "\n",
       "    .dataframe thead th {\n",
       "        text-align: right;\n",
       "    }\n",
       "</style>\n",
       "<table border=\"1\" class=\"dataframe\">\n",
       "  <thead>\n",
       "    <tr style=\"text-align: right;\">\n",
       "      <th></th>\n",
       "      <th>days_to_last_follow_up</th>\n",
       "      <th>year_of_diagnosis</th>\n",
       "      <th>age_at_index</th>\n",
       "      <th>days_to_death</th>\n",
       "      <th>year_of_death</th>\n",
       "    </tr>\n",
       "  </thead>\n",
       "  <tbody>\n",
       "    <tr>\n",
       "      <th>0</th>\n",
       "      <td>8.0</td>\n",
       "      <td>2006.0</td>\n",
       "      <td>84.0</td>\n",
       "      <td>187.0</td>\n",
       "      <td>2006.0</td>\n",
       "    </tr>\n",
       "    <tr>\n",
       "      <th>1</th>\n",
       "      <td>1699.0</td>\n",
       "      <td>2004.0</td>\n",
       "      <td>50.0</td>\n",
       "      <td>2648.0</td>\n",
       "      <td>NaN</td>\n",
       "    </tr>\n",
       "    <tr>\n",
       "      <th>2</th>\n",
       "      <td>182.0</td>\n",
       "      <td>2009.0</td>\n",
       "      <td>23.0</td>\n",
       "      <td>182.0</td>\n",
       "      <td>2009.0</td>\n",
       "    </tr>\n",
       "    <tr>\n",
       "      <th>3</th>\n",
       "      <td>62.0</td>\n",
       "      <td>2010.0</td>\n",
       "      <td>59.0</td>\n",
       "      <td>62.0</td>\n",
       "      <td>2010.0</td>\n",
       "    </tr>\n",
       "    <tr>\n",
       "      <th>4</th>\n",
       "      <td>272.0</td>\n",
       "      <td>2009.0</td>\n",
       "      <td>59.0</td>\n",
       "      <td>NaN</td>\n",
       "      <td>NaN</td>\n",
       "    </tr>\n",
       "    <tr>\n",
       "      <th>5</th>\n",
       "      <td>434.0</td>\n",
       "      <td>2006.0</td>\n",
       "      <td>51.0</td>\n",
       "      <td>452.0</td>\n",
       "      <td>2007.0</td>\n",
       "    </tr>\n",
       "    <tr>\n",
       "      <th>6</th>\n",
       "      <td>NaN</td>\n",
       "      <td>2001.0</td>\n",
       "      <td>44.0</td>\n",
       "      <td>347.0</td>\n",
       "      <td>2001.0</td>\n",
       "    </tr>\n",
       "    <tr>\n",
       "      <th>7</th>\n",
       "      <td>701.0</td>\n",
       "      <td>1998.0</td>\n",
       "      <td>50.0</td>\n",
       "      <td>701.0</td>\n",
       "      <td>1999.0</td>\n",
       "    </tr>\n",
       "    <tr>\n",
       "      <th>8</th>\n",
       "      <td>NaN</td>\n",
       "      <td>2013.0</td>\n",
       "      <td>68.0</td>\n",
       "      <td>121.0</td>\n",
       "      <td>2013.0</td>\n",
       "    </tr>\n",
       "    <tr>\n",
       "      <th>9</th>\n",
       "      <td>5.0</td>\n",
       "      <td>1995.0</td>\n",
       "      <td>77.0</td>\n",
       "      <td>96.0</td>\n",
       "      <td>1995.0</td>\n",
       "    </tr>\n",
       "  </tbody>\n",
       "</table>\n",
       "</div>"
      ],
      "text/plain": [
       "   days_to_last_follow_up  year_of_diagnosis  age_at_index  days_to_death  \\\n",
       "0                     8.0             2006.0          84.0          187.0   \n",
       "1                  1699.0             2004.0          50.0         2648.0   \n",
       "2                   182.0             2009.0          23.0          182.0   \n",
       "3                    62.0             2010.0          59.0           62.0   \n",
       "4                   272.0             2009.0          59.0            NaN   \n",
       "5                   434.0             2006.0          51.0          452.0   \n",
       "6                     NaN             2001.0          44.0          347.0   \n",
       "7                   701.0             1998.0          50.0          701.0   \n",
       "8                     NaN             2013.0          68.0          121.0   \n",
       "9                     5.0             1995.0          77.0           96.0   \n",
       "\n",
       "   year_of_death  \n",
       "0         2006.0  \n",
       "1            NaN  \n",
       "2         2009.0  \n",
       "3         2010.0  \n",
       "4            NaN  \n",
       "5         2007.0  \n",
       "6         2001.0  \n",
       "7         1999.0  \n",
       "8         2013.0  \n",
       "9         1995.0  "
      ]
     },
     "execution_count": 9,
     "metadata": {},
     "output_type": "execute_result"
    }
   ],
   "source": [
    "datos_clinica_numericos = datos_clinica.select_dtypes(include='float64')\n",
    "datos_clinica_numericos.head(10)"
   ]
  },
  {
   "cell_type": "markdown",
   "id": "b701aba7",
   "metadata": {},
   "source": [
    "Comprobamos las variables que aún cuentan con NAs:"
   ]
  },
  {
   "cell_type": "code",
   "execution_count": 10,
   "id": "aaad51c3",
   "metadata": {},
   "outputs": [
    {
     "data": {
      "text/plain": [
       "days_to_last_follow_up     True\n",
       "year_of_diagnosis         False\n",
       "age_at_index              False\n",
       "days_to_death              True\n",
       "year_of_death              True\n",
       "dtype: bool"
      ]
     },
     "execution_count": 10,
     "metadata": {},
     "output_type": "execute_result"
    }
   ],
   "source": [
    "hay_NAs = datos_clinica_numericos.isna().any()\n",
    "hay_NAs"
   ]
  },
  {
   "cell_type": "markdown",
   "id": "ce0fa9c1",
   "metadata": {},
   "source": [
    "Podemos entender, que las variables que aún muestran NAs es porque esas personas no han fallecido, por lo que vamos a poner los NAs como 0:"
   ]
  },
  {
   "cell_type": "code",
   "execution_count": 11,
   "id": "8cb4677c",
   "metadata": {},
   "outputs": [
    {
     "data": {
      "text/html": [
       "<div>\n",
       "<style scoped>\n",
       "    .dataframe tbody tr th:only-of-type {\n",
       "        vertical-align: middle;\n",
       "    }\n",
       "\n",
       "    .dataframe tbody tr th {\n",
       "        vertical-align: top;\n",
       "    }\n",
       "\n",
       "    .dataframe thead th {\n",
       "        text-align: right;\n",
       "    }\n",
       "</style>\n",
       "<table border=\"1\" class=\"dataframe\">\n",
       "  <thead>\n",
       "    <tr style=\"text-align: right;\">\n",
       "      <th></th>\n",
       "      <th>days_to_last_follow_up</th>\n",
       "      <th>year_of_diagnosis</th>\n",
       "      <th>age_at_index</th>\n",
       "      <th>days_to_death</th>\n",
       "      <th>year_of_death</th>\n",
       "    </tr>\n",
       "  </thead>\n",
       "  <tbody>\n",
       "    <tr>\n",
       "      <th>0</th>\n",
       "      <td>8.0</td>\n",
       "      <td>2006.0</td>\n",
       "      <td>84.0</td>\n",
       "      <td>187.0</td>\n",
       "      <td>2006.0</td>\n",
       "    </tr>\n",
       "    <tr>\n",
       "      <th>1</th>\n",
       "      <td>1699.0</td>\n",
       "      <td>2004.0</td>\n",
       "      <td>50.0</td>\n",
       "      <td>2648.0</td>\n",
       "      <td>0.0</td>\n",
       "    </tr>\n",
       "    <tr>\n",
       "      <th>2</th>\n",
       "      <td>182.0</td>\n",
       "      <td>2009.0</td>\n",
       "      <td>23.0</td>\n",
       "      <td>182.0</td>\n",
       "      <td>2009.0</td>\n",
       "    </tr>\n",
       "    <tr>\n",
       "      <th>3</th>\n",
       "      <td>62.0</td>\n",
       "      <td>2010.0</td>\n",
       "      <td>59.0</td>\n",
       "      <td>62.0</td>\n",
       "      <td>2010.0</td>\n",
       "    </tr>\n",
       "    <tr>\n",
       "      <th>4</th>\n",
       "      <td>272.0</td>\n",
       "      <td>2009.0</td>\n",
       "      <td>59.0</td>\n",
       "      <td>0.0</td>\n",
       "      <td>0.0</td>\n",
       "    </tr>\n",
       "    <tr>\n",
       "      <th>5</th>\n",
       "      <td>434.0</td>\n",
       "      <td>2006.0</td>\n",
       "      <td>51.0</td>\n",
       "      <td>452.0</td>\n",
       "      <td>2007.0</td>\n",
       "    </tr>\n",
       "    <tr>\n",
       "      <th>6</th>\n",
       "      <td>0.0</td>\n",
       "      <td>2001.0</td>\n",
       "      <td>44.0</td>\n",
       "      <td>347.0</td>\n",
       "      <td>2001.0</td>\n",
       "    </tr>\n",
       "    <tr>\n",
       "      <th>7</th>\n",
       "      <td>701.0</td>\n",
       "      <td>1998.0</td>\n",
       "      <td>50.0</td>\n",
       "      <td>701.0</td>\n",
       "      <td>1999.0</td>\n",
       "    </tr>\n",
       "    <tr>\n",
       "      <th>8</th>\n",
       "      <td>0.0</td>\n",
       "      <td>2013.0</td>\n",
       "      <td>68.0</td>\n",
       "      <td>121.0</td>\n",
       "      <td>2013.0</td>\n",
       "    </tr>\n",
       "    <tr>\n",
       "      <th>9</th>\n",
       "      <td>5.0</td>\n",
       "      <td>1995.0</td>\n",
       "      <td>77.0</td>\n",
       "      <td>96.0</td>\n",
       "      <td>1995.0</td>\n",
       "    </tr>\n",
       "  </tbody>\n",
       "</table>\n",
       "</div>"
      ],
      "text/plain": [
       "   days_to_last_follow_up  year_of_diagnosis  age_at_index  days_to_death  \\\n",
       "0                     8.0             2006.0          84.0          187.0   \n",
       "1                  1699.0             2004.0          50.0         2648.0   \n",
       "2                   182.0             2009.0          23.0          182.0   \n",
       "3                    62.0             2010.0          59.0           62.0   \n",
       "4                   272.0             2009.0          59.0            0.0   \n",
       "5                   434.0             2006.0          51.0          452.0   \n",
       "6                     0.0             2001.0          44.0          347.0   \n",
       "7                   701.0             1998.0          50.0          701.0   \n",
       "8                     0.0             2013.0          68.0          121.0   \n",
       "9                     5.0             1995.0          77.0           96.0   \n",
       "\n",
       "   year_of_death  \n",
       "0         2006.0  \n",
       "1            0.0  \n",
       "2         2009.0  \n",
       "3         2010.0  \n",
       "4            0.0  \n",
       "5         2007.0  \n",
       "6         2001.0  \n",
       "7         1999.0  \n",
       "8         2013.0  \n",
       "9         1995.0  "
      ]
     },
     "execution_count": 11,
     "metadata": {},
     "output_type": "execute_result"
    }
   ],
   "source": [
    "datos_clinica_numericos = datos_clinica_numericos.fillna(0)\n",
    "datos_clinica_numericos.head(10)"
   ]
  },
  {
   "cell_type": "markdown",
   "id": "8e494b4c",
   "metadata": {},
   "source": [
    "Comprobamos que las variables numéricas, lo sean de forma correcta:"
   ]
  },
  {
   "cell_type": "code",
   "execution_count": 12,
   "id": "5e93a898",
   "metadata": {},
   "outputs": [],
   "source": [
    "for col in datos_clinica_numericos.columns:\n",
    "    if datos_clinica_numericos[col].dtype == 'float64':  # O cualquier otro tipo numérico que desees convertir\n",
    "        datos_clinica_numericos[col] = datos_clinica_numericos[col].astype(int)"
   ]
  },
  {
   "cell_type": "code",
   "execution_count": 13,
   "id": "d5321945",
   "metadata": {},
   "outputs": [
    {
     "data": {
      "text/plain": [
       "days_to_last_follow_up    int32\n",
       "year_of_diagnosis         int32\n",
       "age_at_index              int32\n",
       "days_to_death             int32\n",
       "year_of_death             int32\n",
       "dtype: object"
      ]
     },
     "execution_count": 13,
     "metadata": {},
     "output_type": "execute_result"
    }
   ],
   "source": [
    "tipos_datos = datos_clinica_numericos.dtypes\n",
    "tipos_datos"
   ]
  },
  {
   "cell_type": "code",
   "execution_count": 14,
   "id": "e0d32d87",
   "metadata": {},
   "outputs": [
    {
     "data": {
      "text/html": [
       "<div>\n",
       "<style scoped>\n",
       "    .dataframe tbody tr th:only-of-type {\n",
       "        vertical-align: middle;\n",
       "    }\n",
       "\n",
       "    .dataframe tbody tr th {\n",
       "        vertical-align: top;\n",
       "    }\n",
       "\n",
       "    .dataframe thead th {\n",
       "        text-align: right;\n",
       "    }\n",
       "</style>\n",
       "<table border=\"1\" class=\"dataframe\">\n",
       "  <thead>\n",
       "    <tr style=\"text-align: right;\">\n",
       "      <th></th>\n",
       "      <th>days_to_last_follow_up</th>\n",
       "      <th>year_of_diagnosis</th>\n",
       "      <th>age_at_index</th>\n",
       "      <th>days_to_death</th>\n",
       "      <th>year_of_death</th>\n",
       "    </tr>\n",
       "  </thead>\n",
       "  <tbody>\n",
       "    <tr>\n",
       "      <th>0</th>\n",
       "      <td>8</td>\n",
       "      <td>2006</td>\n",
       "      <td>84</td>\n",
       "      <td>187</td>\n",
       "      <td>2006</td>\n",
       "    </tr>\n",
       "    <tr>\n",
       "      <th>1</th>\n",
       "      <td>1699</td>\n",
       "      <td>2004</td>\n",
       "      <td>50</td>\n",
       "      <td>2648</td>\n",
       "      <td>0</td>\n",
       "    </tr>\n",
       "    <tr>\n",
       "      <th>2</th>\n",
       "      <td>182</td>\n",
       "      <td>2009</td>\n",
       "      <td>23</td>\n",
       "      <td>182</td>\n",
       "      <td>2009</td>\n",
       "    </tr>\n",
       "    <tr>\n",
       "      <th>3</th>\n",
       "      <td>62</td>\n",
       "      <td>2010</td>\n",
       "      <td>59</td>\n",
       "      <td>62</td>\n",
       "      <td>2010</td>\n",
       "    </tr>\n",
       "    <tr>\n",
       "      <th>4</th>\n",
       "      <td>272</td>\n",
       "      <td>2009</td>\n",
       "      <td>59</td>\n",
       "      <td>0</td>\n",
       "      <td>0</td>\n",
       "    </tr>\n",
       "    <tr>\n",
       "      <th>5</th>\n",
       "      <td>434</td>\n",
       "      <td>2006</td>\n",
       "      <td>51</td>\n",
       "      <td>452</td>\n",
       "      <td>2007</td>\n",
       "    </tr>\n",
       "    <tr>\n",
       "      <th>6</th>\n",
       "      <td>0</td>\n",
       "      <td>2001</td>\n",
       "      <td>44</td>\n",
       "      <td>347</td>\n",
       "      <td>2001</td>\n",
       "    </tr>\n",
       "    <tr>\n",
       "      <th>7</th>\n",
       "      <td>701</td>\n",
       "      <td>1998</td>\n",
       "      <td>50</td>\n",
       "      <td>701</td>\n",
       "      <td>1999</td>\n",
       "    </tr>\n",
       "    <tr>\n",
       "      <th>8</th>\n",
       "      <td>0</td>\n",
       "      <td>2013</td>\n",
       "      <td>68</td>\n",
       "      <td>121</td>\n",
       "      <td>2013</td>\n",
       "    </tr>\n",
       "    <tr>\n",
       "      <th>9</th>\n",
       "      <td>5</td>\n",
       "      <td>1995</td>\n",
       "      <td>77</td>\n",
       "      <td>96</td>\n",
       "      <td>1995</td>\n",
       "    </tr>\n",
       "  </tbody>\n",
       "</table>\n",
       "</div>"
      ],
      "text/plain": [
       "   days_to_last_follow_up  year_of_diagnosis  age_at_index  days_to_death  \\\n",
       "0                       8               2006            84            187   \n",
       "1                    1699               2004            50           2648   \n",
       "2                     182               2009            23            182   \n",
       "3                      62               2010            59             62   \n",
       "4                     272               2009            59              0   \n",
       "5                     434               2006            51            452   \n",
       "6                       0               2001            44            347   \n",
       "7                     701               1998            50            701   \n",
       "8                       0               2013            68            121   \n",
       "9                       5               1995            77             96   \n",
       "\n",
       "   year_of_death  \n",
       "0           2006  \n",
       "1              0  \n",
       "2           2009  \n",
       "3           2010  \n",
       "4              0  \n",
       "5           2007  \n",
       "6           2001  \n",
       "7           1999  \n",
       "8           2013  \n",
       "9           1995  "
      ]
     },
     "execution_count": 14,
     "metadata": {},
     "output_type": "execute_result"
    }
   ],
   "source": [
    "datos_clinica_numericos.head(10)"
   ]
  },
  {
   "cell_type": "markdown",
   "id": "da2f214c",
   "metadata": {},
   "source": [
    "Una vez ya tenemos las variables numéricas bien definidas, podemos hacer una Matriz de Correlación:"
   ]
  },
  {
   "cell_type": "code",
   "execution_count": 15,
   "id": "cac0b3d8",
   "metadata": {},
   "outputs": [
    {
     "data": {
      "text/html": [
       "<style type=\"text/css\">\n",
       "#T_a8eb7_row0_col0, #T_a8eb7_row1_col1, #T_a8eb7_row2_col2, #T_a8eb7_row3_col3, #T_a8eb7_row4_col4 {\n",
       "  background-color: #ffffff;\n",
       "  color: #000000;\n",
       "}\n",
       "#T_a8eb7_row0_col1 {\n",
       "  background-color: #000156;\n",
       "  color: #f1f1f1;\n",
       "}\n",
       "#T_a8eb7_row0_col2, #T_a8eb7_row1_col3, #T_a8eb7_row1_col4, #T_a8eb7_row2_col0, #T_a8eb7_row4_col1 {\n",
       "  background-color: #008000;\n",
       "  color: #f1f1f1;\n",
       "}\n",
       "#T_a8eb7_row0_col3 {\n",
       "  background-color: #00206a;\n",
       "  color: #f1f1f1;\n",
       "}\n",
       "#T_a8eb7_row0_col4 {\n",
       "  background-color: #003134;\n",
       "  color: #f1f1f1;\n",
       "}\n",
       "#T_a8eb7_row1_col0 {\n",
       "  background-color: #003e2c;\n",
       "  color: #f1f1f1;\n",
       "}\n",
       "#T_a8eb7_row1_col2 {\n",
       "  background-color: #004e21;\n",
       "  color: #f1f1f1;\n",
       "}\n",
       "#T_a8eb7_row2_col1 {\n",
       "  background-color: #000c4d;\n",
       "  color: #f1f1f1;\n",
       "}\n",
       "#T_a8eb7_row2_col3 {\n",
       "  background-color: #002040;\n",
       "  color: #f1f1f1;\n",
       "}\n",
       "#T_a8eb7_row2_col4, #T_a8eb7_row3_col4 {\n",
       "  background-color: #00699b;\n",
       "  color: #f1f1f1;\n",
       "}\n",
       "#T_a8eb7_row3_col0 {\n",
       "  background-color: #00075a;\n",
       "  color: #f1f1f1;\n",
       "}\n",
       "#T_a8eb7_row3_col1 {\n",
       "  background-color: #00561c;\n",
       "  color: #f1f1f1;\n",
       "}\n",
       "#T_a8eb7_row3_col2 {\n",
       "  background-color: #003f2b;\n",
       "  color: #f1f1f1;\n",
       "}\n",
       "#T_a8eb7_row4_col0 {\n",
       "  background-color: #007c02;\n",
       "  color: #f1f1f1;\n",
       "}\n",
       "#T_a8eb7_row4_col2 {\n",
       "  background-color: #004583;\n",
       "  color: #f1f1f1;\n",
       "}\n",
       "#T_a8eb7_row4_col3 {\n",
       "  background-color: #00578f;\n",
       "  color: #f1f1f1;\n",
       "}\n",
       "</style>\n",
       "<table id=\"T_a8eb7\">\n",
       "  <thead>\n",
       "    <tr>\n",
       "      <th class=\"blank level0\" >&nbsp;</th>\n",
       "      <th id=\"T_a8eb7_level0_col0\" class=\"col_heading level0 col0\" >days_to_last_follow_up</th>\n",
       "      <th id=\"T_a8eb7_level0_col1\" class=\"col_heading level0 col1\" >year_of_diagnosis</th>\n",
       "      <th id=\"T_a8eb7_level0_col2\" class=\"col_heading level0 col2\" >age_at_index</th>\n",
       "      <th id=\"T_a8eb7_level0_col3\" class=\"col_heading level0 col3\" >days_to_death</th>\n",
       "      <th id=\"T_a8eb7_level0_col4\" class=\"col_heading level0 col4\" >year_of_death</th>\n",
       "    </tr>\n",
       "  </thead>\n",
       "  <tbody>\n",
       "    <tr>\n",
       "      <th id=\"T_a8eb7_level0_row0\" class=\"row_heading level0 row0\" >days_to_last_follow_up</th>\n",
       "      <td id=\"T_a8eb7_row0_col0\" class=\"data row0 col0\" >1.00</td>\n",
       "      <td id=\"T_a8eb7_row0_col1\" class=\"data row0 col1\" >-0.08</td>\n",
       "      <td id=\"T_a8eb7_row0_col2\" class=\"data row0 col2\" >-0.31</td>\n",
       "      <td id=\"T_a8eb7_row0_col3\" class=\"data row0 col3\" >0.15</td>\n",
       "      <td id=\"T_a8eb7_row0_col4\" class=\"data row0 col4\" >-0.30</td>\n",
       "    </tr>\n",
       "    <tr>\n",
       "      <th id=\"T_a8eb7_level0_row1\" class=\"row_heading level0 row1\" >year_of_diagnosis</th>\n",
       "      <td id=\"T_a8eb7_row1_col0\" class=\"data row1 col0\" >-0.08</td>\n",
       "      <td id=\"T_a8eb7_row1_col1\" class=\"data row1 col1\" >1.00</td>\n",
       "      <td id=\"T_a8eb7_row1_col2\" class=\"data row1 col2\" >-0.14</td>\n",
       "      <td id=\"T_a8eb7_row1_col3\" class=\"data row1 col3\" >-0.45</td>\n",
       "      <td id=\"T_a8eb7_row1_col4\" class=\"data row1 col4\" >-0.64</td>\n",
       "    </tr>\n",
       "    <tr>\n",
       "      <th id=\"T_a8eb7_level0_row2\" class=\"row_heading level0 row2\" >age_at_index</th>\n",
       "      <td id=\"T_a8eb7_row2_col0\" class=\"data row2 col0\" >-0.31</td>\n",
       "      <td id=\"T_a8eb7_row2_col1\" class=\"data row2 col1\" >-0.14</td>\n",
       "      <td id=\"T_a8eb7_row2_col2\" class=\"data row2 col2\" >1.00</td>\n",
       "      <td id=\"T_a8eb7_row2_col3\" class=\"data row2 col3\" >-0.09</td>\n",
       "      <td id=\"T_a8eb7_row2_col4\" class=\"data row2 col4\" >0.36</td>\n",
       "    </tr>\n",
       "    <tr>\n",
       "      <th id=\"T_a8eb7_level0_row3\" class=\"row_heading level0 row3\" >days_to_death</th>\n",
       "      <td id=\"T_a8eb7_row3_col0\" class=\"data row3 col0\" >0.15</td>\n",
       "      <td id=\"T_a8eb7_row3_col1\" class=\"data row3 col1\" >-0.45</td>\n",
       "      <td id=\"T_a8eb7_row3_col2\" class=\"data row3 col2\" >-0.09</td>\n",
       "      <td id=\"T_a8eb7_row3_col3\" class=\"data row3 col3\" >1.00</td>\n",
       "      <td id=\"T_a8eb7_row3_col4\" class=\"data row3 col4\" >0.36</td>\n",
       "    </tr>\n",
       "    <tr>\n",
       "      <th id=\"T_a8eb7_level0_row4\" class=\"row_heading level0 row4\" >year_of_death</th>\n",
       "      <td id=\"T_a8eb7_row4_col0\" class=\"data row4 col0\" >-0.30</td>\n",
       "      <td id=\"T_a8eb7_row4_col1\" class=\"data row4 col1\" >-0.64</td>\n",
       "      <td id=\"T_a8eb7_row4_col2\" class=\"data row4 col2\" >0.36</td>\n",
       "      <td id=\"T_a8eb7_row4_col3\" class=\"data row4 col3\" >0.36</td>\n",
       "      <td id=\"T_a8eb7_row4_col4\" class=\"data row4 col4\" >1.00</td>\n",
       "    </tr>\n",
       "  </tbody>\n",
       "</table>\n"
      ],
      "text/plain": [
       "<pandas.io.formats.style.Styler at 0x1f97d167f40>"
      ]
     },
     "execution_count": 15,
     "metadata": {},
     "output_type": "execute_result"
    }
   ],
   "source": [
    "matriz_correlacion = datos_clinica_numericos.corr()\n",
    "matriz_correlacion.style.background_gradient(cmap = \"ocean\").format(precision=2)"
   ]
  },
  {
   "cell_type": "markdown",
   "id": "c8bcc9f1",
   "metadata": {},
   "source": [
    "Por último integramos los cambios en el conjunto de datos:"
   ]
  },
  {
   "cell_type": "code",
   "execution_count": 16,
   "id": "45faba26",
   "metadata": {},
   "outputs": [
    {
     "data": {
      "text/html": [
       "<div>\n",
       "<style scoped>\n",
       "    .dataframe tbody tr th:only-of-type {\n",
       "        vertical-align: middle;\n",
       "    }\n",
       "\n",
       "    .dataframe tbody tr th {\n",
       "        vertical-align: top;\n",
       "    }\n",
       "\n",
       "    .dataframe thead th {\n",
       "        text-align: right;\n",
       "    }\n",
       "</style>\n",
       "<table border=\"1\" class=\"dataframe\">\n",
       "  <thead>\n",
       "    <tr style=\"text-align: right;\">\n",
       "      <th></th>\n",
       "      <th>project</th>\n",
       "      <th>submitter_id</th>\n",
       "      <th>morphology</th>\n",
       "      <th>tissue_or_organ_of_origin</th>\n",
       "      <th>days_to_last_follow_up</th>\n",
       "      <th>primary_diagnosis</th>\n",
       "      <th>year_of_diagnosis</th>\n",
       "      <th>prior_treatment</th>\n",
       "      <th>race</th>\n",
       "      <th>gender</th>\n",
       "      <th>ethnicity</th>\n",
       "      <th>vital_status</th>\n",
       "      <th>age_at_index</th>\n",
       "      <th>days_to_death</th>\n",
       "      <th>year_of_death</th>\n",
       "      <th>treatments_pharmaceutical_treatment_or_therapy</th>\n",
       "      <th>treatments_radiation_treatment_or_therapy</th>\n",
       "    </tr>\n",
       "  </thead>\n",
       "  <tbody>\n",
       "    <tr>\n",
       "      <th>0</th>\n",
       "      <td>TCGA-GBM</td>\n",
       "      <td>TCGA-06-0122</td>\n",
       "      <td>9440/3</td>\n",
       "      <td>Brain, NOS</td>\n",
       "      <td>8</td>\n",
       "      <td>Glioblastoma</td>\n",
       "      <td>2006</td>\n",
       "      <td>No</td>\n",
       "      <td>white</td>\n",
       "      <td>female</td>\n",
       "      <td>not hispanic or latino</td>\n",
       "      <td>Dead</td>\n",
       "      <td>84</td>\n",
       "      <td>187</td>\n",
       "      <td>2006</td>\n",
       "      <td>not reported</td>\n",
       "      <td>not reported</td>\n",
       "    </tr>\n",
       "    <tr>\n",
       "      <th>1</th>\n",
       "      <td>TCGA-GBM</td>\n",
       "      <td>TCGA-02-0016</td>\n",
       "      <td>9440/3</td>\n",
       "      <td>Brain, NOS</td>\n",
       "      <td>1699</td>\n",
       "      <td>Glioblastoma</td>\n",
       "      <td>2004</td>\n",
       "      <td>No</td>\n",
       "      <td>white</td>\n",
       "      <td>male</td>\n",
       "      <td>not hispanic or latino</td>\n",
       "      <td>Dead</td>\n",
       "      <td>50</td>\n",
       "      <td>2648</td>\n",
       "      <td>0</td>\n",
       "      <td>yes</td>\n",
       "      <td>yes</td>\n",
       "    </tr>\n",
       "    <tr>\n",
       "      <th>2</th>\n",
       "      <td>TCGA-GBM</td>\n",
       "      <td>TCGA-06-2566</td>\n",
       "      <td>9440/3</td>\n",
       "      <td>Brain, NOS</td>\n",
       "      <td>182</td>\n",
       "      <td>Glioblastoma</td>\n",
       "      <td>2009</td>\n",
       "      <td>No</td>\n",
       "      <td>white</td>\n",
       "      <td>female</td>\n",
       "      <td>not hispanic or latino</td>\n",
       "      <td>Dead</td>\n",
       "      <td>23</td>\n",
       "      <td>182</td>\n",
       "      <td>2009</td>\n",
       "      <td>yes</td>\n",
       "      <td>yes</td>\n",
       "    </tr>\n",
       "    <tr>\n",
       "      <th>3</th>\n",
       "      <td>TCGA-GBM</td>\n",
       "      <td>TCGA-12-5301</td>\n",
       "      <td>9440/3</td>\n",
       "      <td>Brain, NOS</td>\n",
       "      <td>62</td>\n",
       "      <td>Glioblastoma</td>\n",
       "      <td>2010</td>\n",
       "      <td>No</td>\n",
       "      <td>white</td>\n",
       "      <td>male</td>\n",
       "      <td>not hispanic or latino</td>\n",
       "      <td>Dead</td>\n",
       "      <td>59</td>\n",
       "      <td>62</td>\n",
       "      <td>2010</td>\n",
       "      <td>yes</td>\n",
       "      <td>yes</td>\n",
       "    </tr>\n",
       "    <tr>\n",
       "      <th>4</th>\n",
       "      <td>TCGA-GBM</td>\n",
       "      <td>TCGA-41-2573</td>\n",
       "      <td>9440/3</td>\n",
       "      <td>Brain, NOS</td>\n",
       "      <td>272</td>\n",
       "      <td>Glioblastoma</td>\n",
       "      <td>2009</td>\n",
       "      <td>No</td>\n",
       "      <td>white</td>\n",
       "      <td>male</td>\n",
       "      <td>not hispanic or latino</td>\n",
       "      <td>Alive</td>\n",
       "      <td>59</td>\n",
       "      <td>0</td>\n",
       "      <td>0</td>\n",
       "      <td>yes</td>\n",
       "      <td>yes</td>\n",
       "    </tr>\n",
       "    <tr>\n",
       "      <th>5</th>\n",
       "      <td>TCGA-GBM</td>\n",
       "      <td>TCGA-12-0780</td>\n",
       "      <td>9440/3</td>\n",
       "      <td>Brain, NOS</td>\n",
       "      <td>434</td>\n",
       "      <td>Glioblastoma</td>\n",
       "      <td>2006</td>\n",
       "      <td>No</td>\n",
       "      <td>white</td>\n",
       "      <td>female</td>\n",
       "      <td>not hispanic or latino</td>\n",
       "      <td>Dead</td>\n",
       "      <td>51</td>\n",
       "      <td>452</td>\n",
       "      <td>2007</td>\n",
       "      <td>yes</td>\n",
       "      <td>yes</td>\n",
       "    </tr>\n",
       "    <tr>\n",
       "      <th>6</th>\n",
       "      <td>TCGA-GBM</td>\n",
       "      <td>TCGA-06-0167</td>\n",
       "      <td>9440/3</td>\n",
       "      <td>Brain, NOS</td>\n",
       "      <td>0</td>\n",
       "      <td>Glioblastoma</td>\n",
       "      <td>2001</td>\n",
       "      <td>No</td>\n",
       "      <td>black or african american</td>\n",
       "      <td>male</td>\n",
       "      <td>not hispanic or latino</td>\n",
       "      <td>Dead</td>\n",
       "      <td>44</td>\n",
       "      <td>347</td>\n",
       "      <td>2001</td>\n",
       "      <td>yes</td>\n",
       "      <td>yes</td>\n",
       "    </tr>\n",
       "    <tr>\n",
       "      <th>7</th>\n",
       "      <td>TCGA-GBM</td>\n",
       "      <td>TCGA-14-0786</td>\n",
       "      <td>9440/3</td>\n",
       "      <td>Brain, NOS</td>\n",
       "      <td>701</td>\n",
       "      <td>Glioblastoma</td>\n",
       "      <td>1998</td>\n",
       "      <td>No</td>\n",
       "      <td>white</td>\n",
       "      <td>female</td>\n",
       "      <td>not reported</td>\n",
       "      <td>Dead</td>\n",
       "      <td>50</td>\n",
       "      <td>701</td>\n",
       "      <td>1999</td>\n",
       "      <td>yes</td>\n",
       "      <td>yes</td>\n",
       "    </tr>\n",
       "    <tr>\n",
       "      <th>8</th>\n",
       "      <td>TCGA-GBM</td>\n",
       "      <td>TCGA-19-A6J4</td>\n",
       "      <td>9440/3</td>\n",
       "      <td>Brain, NOS</td>\n",
       "      <td>0</td>\n",
       "      <td>Glioblastoma</td>\n",
       "      <td>2013</td>\n",
       "      <td>No</td>\n",
       "      <td>black or african american</td>\n",
       "      <td>male</td>\n",
       "      <td>not hispanic or latino</td>\n",
       "      <td>Dead</td>\n",
       "      <td>68</td>\n",
       "      <td>121</td>\n",
       "      <td>2013</td>\n",
       "      <td>not reported</td>\n",
       "      <td>not reported</td>\n",
       "    </tr>\n",
       "    <tr>\n",
       "      <th>9</th>\n",
       "      <td>TCGA-GBM</td>\n",
       "      <td>TCGA-06-0413</td>\n",
       "      <td>9440/3</td>\n",
       "      <td>Brain, NOS</td>\n",
       "      <td>5</td>\n",
       "      <td>Glioblastoma</td>\n",
       "      <td>1995</td>\n",
       "      <td>No</td>\n",
       "      <td>white</td>\n",
       "      <td>female</td>\n",
       "      <td>not hispanic or latino</td>\n",
       "      <td>Dead</td>\n",
       "      <td>77</td>\n",
       "      <td>96</td>\n",
       "      <td>1995</td>\n",
       "      <td>no</td>\n",
       "      <td>no</td>\n",
       "    </tr>\n",
       "  </tbody>\n",
       "</table>\n",
       "</div>"
      ],
      "text/plain": [
       "    project  submitter_id morphology tissue_or_organ_of_origin  \\\n",
       "0  TCGA-GBM  TCGA-06-0122     9440/3                Brain, NOS   \n",
       "1  TCGA-GBM  TCGA-02-0016     9440/3                Brain, NOS   \n",
       "2  TCGA-GBM  TCGA-06-2566     9440/3                Brain, NOS   \n",
       "3  TCGA-GBM  TCGA-12-5301     9440/3                Brain, NOS   \n",
       "4  TCGA-GBM  TCGA-41-2573     9440/3                Brain, NOS   \n",
       "5  TCGA-GBM  TCGA-12-0780     9440/3                Brain, NOS   \n",
       "6  TCGA-GBM  TCGA-06-0167     9440/3                Brain, NOS   \n",
       "7  TCGA-GBM  TCGA-14-0786     9440/3                Brain, NOS   \n",
       "8  TCGA-GBM  TCGA-19-A6J4     9440/3                Brain, NOS   \n",
       "9  TCGA-GBM  TCGA-06-0413     9440/3                Brain, NOS   \n",
       "\n",
       "   days_to_last_follow_up primary_diagnosis  year_of_diagnosis  \\\n",
       "0                       8      Glioblastoma               2006   \n",
       "1                    1699      Glioblastoma               2004   \n",
       "2                     182      Glioblastoma               2009   \n",
       "3                      62      Glioblastoma               2010   \n",
       "4                     272      Glioblastoma               2009   \n",
       "5                     434      Glioblastoma               2006   \n",
       "6                       0      Glioblastoma               2001   \n",
       "7                     701      Glioblastoma               1998   \n",
       "8                       0      Glioblastoma               2013   \n",
       "9                       5      Glioblastoma               1995   \n",
       "\n",
       "  prior_treatment                       race  gender               ethnicity  \\\n",
       "0              No                      white  female  not hispanic or latino   \n",
       "1              No                      white    male  not hispanic or latino   \n",
       "2              No                      white  female  not hispanic or latino   \n",
       "3              No                      white    male  not hispanic or latino   \n",
       "4              No                      white    male  not hispanic or latino   \n",
       "5              No                      white  female  not hispanic or latino   \n",
       "6              No  black or african american    male  not hispanic or latino   \n",
       "7              No                      white  female            not reported   \n",
       "8              No  black or african american    male  not hispanic or latino   \n",
       "9              No                      white  female  not hispanic or latino   \n",
       "\n",
       "  vital_status  age_at_index  days_to_death  year_of_death  \\\n",
       "0         Dead            84            187           2006   \n",
       "1         Dead            50           2648              0   \n",
       "2         Dead            23            182           2009   \n",
       "3         Dead            59             62           2010   \n",
       "4        Alive            59              0              0   \n",
       "5         Dead            51            452           2007   \n",
       "6         Dead            44            347           2001   \n",
       "7         Dead            50            701           1999   \n",
       "8         Dead            68            121           2013   \n",
       "9         Dead            77             96           1995   \n",
       "\n",
       "  treatments_pharmaceutical_treatment_or_therapy  \\\n",
       "0                                   not reported   \n",
       "1                                            yes   \n",
       "2                                            yes   \n",
       "3                                            yes   \n",
       "4                                            yes   \n",
       "5                                            yes   \n",
       "6                                            yes   \n",
       "7                                            yes   \n",
       "8                                   not reported   \n",
       "9                                             no   \n",
       "\n",
       "  treatments_radiation_treatment_or_therapy  \n",
       "0                              not reported  \n",
       "1                                       yes  \n",
       "2                                       yes  \n",
       "3                                       yes  \n",
       "4                                       yes  \n",
       "5                                       yes  \n",
       "6                                       yes  \n",
       "7                                       yes  \n",
       "8                              not reported  \n",
       "9                                        no  "
      ]
     },
     "execution_count": 16,
     "metadata": {},
     "output_type": "execute_result"
    }
   ],
   "source": [
    "datos_clinica.loc[:, (columnas_numericas)] = datos_clinica_numericos.loc[:, (columnas_numericas)]\n",
    "datos_clinica.head(10)"
   ]
  },
  {
   "cell_type": "markdown",
   "id": "869c6e81",
   "metadata": {
    "tags": []
   },
   "source": [
    "#### 2.2 Normalización Datos Cualitativos"
   ]
  },
  {
   "cell_type": "markdown",
   "id": "3ddfd611-e2e8-4de0-9873-794fb2cb98a7",
   "metadata": {},
   "source": [
    "El siguiente paso, será tratar las variables Cualitativas, por lo que empezaremos por convertir a Factor la variable <i>project</i>, <i>morphology</i>, <i>tissue_or_organ_of_origin</i>, <i>primary_diagnosis</i>, <i>race</i>, <i>gender</i>, <i>ethnicity</i>, <i>vital_status</i>, <i>treatments_pharmaceutical_treatment_or_therapy</i> y <i>treatments_radiation_treatment_or_therapy</i>,:"
   ]
  },
  {
   "cell_type": "code",
   "execution_count": 17,
   "id": "4ce1467d",
   "metadata": {},
   "outputs": [
    {
     "data": {
      "text/html": [
       "<div>\n",
       "<style scoped>\n",
       "    .dataframe tbody tr th:only-of-type {\n",
       "        vertical-align: middle;\n",
       "    }\n",
       "\n",
       "    .dataframe tbody tr th {\n",
       "        vertical-align: top;\n",
       "    }\n",
       "\n",
       "    .dataframe thead th {\n",
       "        text-align: right;\n",
       "    }\n",
       "</style>\n",
       "<table border=\"1\" class=\"dataframe\">\n",
       "  <thead>\n",
       "    <tr style=\"text-align: right;\">\n",
       "      <th></th>\n",
       "      <th>project</th>\n",
       "      <th>submitter_id</th>\n",
       "      <th>morphology</th>\n",
       "      <th>tissue_or_organ_of_origin</th>\n",
       "      <th>days_to_last_follow_up</th>\n",
       "      <th>primary_diagnosis</th>\n",
       "      <th>year_of_diagnosis</th>\n",
       "      <th>prior_treatment</th>\n",
       "      <th>race</th>\n",
       "      <th>gender</th>\n",
       "      <th>ethnicity</th>\n",
       "      <th>vital_status</th>\n",
       "      <th>age_at_index</th>\n",
       "      <th>days_to_death</th>\n",
       "      <th>year_of_death</th>\n",
       "      <th>treatments_pharmaceutical_treatment_or_therapy</th>\n",
       "      <th>treatments_radiation_treatment_or_therapy</th>\n",
       "    </tr>\n",
       "  </thead>\n",
       "  <tbody>\n",
       "    <tr>\n",
       "      <th>0</th>\n",
       "      <td>TCGA-GBM</td>\n",
       "      <td>TCGA-06-0122</td>\n",
       "      <td>9440/3</td>\n",
       "      <td>Brain, NOS</td>\n",
       "      <td>8</td>\n",
       "      <td>Glioblastoma</td>\n",
       "      <td>2006</td>\n",
       "      <td>No</td>\n",
       "      <td>white</td>\n",
       "      <td>female</td>\n",
       "      <td>not hispanic or latino</td>\n",
       "      <td>Dead</td>\n",
       "      <td>84</td>\n",
       "      <td>187</td>\n",
       "      <td>2006</td>\n",
       "      <td>not reported</td>\n",
       "      <td>not reported</td>\n",
       "    </tr>\n",
       "    <tr>\n",
       "      <th>1</th>\n",
       "      <td>TCGA-GBM</td>\n",
       "      <td>TCGA-02-0016</td>\n",
       "      <td>9440/3</td>\n",
       "      <td>Brain, NOS</td>\n",
       "      <td>1699</td>\n",
       "      <td>Glioblastoma</td>\n",
       "      <td>2004</td>\n",
       "      <td>No</td>\n",
       "      <td>white</td>\n",
       "      <td>male</td>\n",
       "      <td>not hispanic or latino</td>\n",
       "      <td>Dead</td>\n",
       "      <td>50</td>\n",
       "      <td>2648</td>\n",
       "      <td>0</td>\n",
       "      <td>yes</td>\n",
       "      <td>yes</td>\n",
       "    </tr>\n",
       "    <tr>\n",
       "      <th>2</th>\n",
       "      <td>TCGA-GBM</td>\n",
       "      <td>TCGA-06-2566</td>\n",
       "      <td>9440/3</td>\n",
       "      <td>Brain, NOS</td>\n",
       "      <td>182</td>\n",
       "      <td>Glioblastoma</td>\n",
       "      <td>2009</td>\n",
       "      <td>No</td>\n",
       "      <td>white</td>\n",
       "      <td>female</td>\n",
       "      <td>not hispanic or latino</td>\n",
       "      <td>Dead</td>\n",
       "      <td>23</td>\n",
       "      <td>182</td>\n",
       "      <td>2009</td>\n",
       "      <td>yes</td>\n",
       "      <td>yes</td>\n",
       "    </tr>\n",
       "    <tr>\n",
       "      <th>3</th>\n",
       "      <td>TCGA-GBM</td>\n",
       "      <td>TCGA-12-5301</td>\n",
       "      <td>9440/3</td>\n",
       "      <td>Brain, NOS</td>\n",
       "      <td>62</td>\n",
       "      <td>Glioblastoma</td>\n",
       "      <td>2010</td>\n",
       "      <td>No</td>\n",
       "      <td>white</td>\n",
       "      <td>male</td>\n",
       "      <td>not hispanic or latino</td>\n",
       "      <td>Dead</td>\n",
       "      <td>59</td>\n",
       "      <td>62</td>\n",
       "      <td>2010</td>\n",
       "      <td>yes</td>\n",
       "      <td>yes</td>\n",
       "    </tr>\n",
       "    <tr>\n",
       "      <th>4</th>\n",
       "      <td>TCGA-GBM</td>\n",
       "      <td>TCGA-41-2573</td>\n",
       "      <td>9440/3</td>\n",
       "      <td>Brain, NOS</td>\n",
       "      <td>272</td>\n",
       "      <td>Glioblastoma</td>\n",
       "      <td>2009</td>\n",
       "      <td>No</td>\n",
       "      <td>white</td>\n",
       "      <td>male</td>\n",
       "      <td>not hispanic or latino</td>\n",
       "      <td>Alive</td>\n",
       "      <td>59</td>\n",
       "      <td>0</td>\n",
       "      <td>0</td>\n",
       "      <td>yes</td>\n",
       "      <td>yes</td>\n",
       "    </tr>\n",
       "    <tr>\n",
       "      <th>...</th>\n",
       "      <td>...</td>\n",
       "      <td>...</td>\n",
       "      <td>...</td>\n",
       "      <td>...</td>\n",
       "      <td>...</td>\n",
       "      <td>...</td>\n",
       "      <td>...</td>\n",
       "      <td>...</td>\n",
       "      <td>...</td>\n",
       "      <td>...</td>\n",
       "      <td>...</td>\n",
       "      <td>...</td>\n",
       "      <td>...</td>\n",
       "      <td>...</td>\n",
       "      <td>...</td>\n",
       "      <td>...</td>\n",
       "      <td>...</td>\n",
       "    </tr>\n",
       "    <tr>\n",
       "      <th>1127</th>\n",
       "      <td>TCGA-LGG</td>\n",
       "      <td>TCGA-DU-7306</td>\n",
       "      <td>9382/3</td>\n",
       "      <td>Cerebrum</td>\n",
       "      <td>1277</td>\n",
       "      <td>Mixed glioma</td>\n",
       "      <td>2008</td>\n",
       "      <td>No</td>\n",
       "      <td>white</td>\n",
       "      <td>male</td>\n",
       "      <td>not hispanic or latino</td>\n",
       "      <td>Alive</td>\n",
       "      <td>67</td>\n",
       "      <td>0</td>\n",
       "      <td>0</td>\n",
       "      <td>yes</td>\n",
       "      <td>yes</td>\n",
       "    </tr>\n",
       "    <tr>\n",
       "      <th>1128</th>\n",
       "      <td>TCGA-LGG</td>\n",
       "      <td>TCGA-HT-7873</td>\n",
       "      <td>9382/3</td>\n",
       "      <td>Cerebrum</td>\n",
       "      <td>718</td>\n",
       "      <td>Mixed glioma</td>\n",
       "      <td>2011</td>\n",
       "      <td>No</td>\n",
       "      <td>white</td>\n",
       "      <td>male</td>\n",
       "      <td>not hispanic or latino</td>\n",
       "      <td>Alive</td>\n",
       "      <td>29</td>\n",
       "      <td>0</td>\n",
       "      <td>0</td>\n",
       "      <td>no</td>\n",
       "      <td>yes</td>\n",
       "    </tr>\n",
       "    <tr>\n",
       "      <th>1129</th>\n",
       "      <td>TCGA-LGG</td>\n",
       "      <td>TCGA-HW-7490</td>\n",
       "      <td>9400/3</td>\n",
       "      <td>Cerebrum</td>\n",
       "      <td>1387</td>\n",
       "      <td>Astrocytoma, NOS</td>\n",
       "      <td>2011</td>\n",
       "      <td>No</td>\n",
       "      <td>white</td>\n",
       "      <td>male</td>\n",
       "      <td>not hispanic or latino</td>\n",
       "      <td>Alive</td>\n",
       "      <td>41</td>\n",
       "      <td>0</td>\n",
       "      <td>0</td>\n",
       "      <td>no</td>\n",
       "      <td>no</td>\n",
       "    </tr>\n",
       "    <tr>\n",
       "      <th>1130</th>\n",
       "      <td>TCGA-LGG</td>\n",
       "      <td>TCGA-FG-7637</td>\n",
       "      <td>9382/3</td>\n",
       "      <td>Cerebrum</td>\n",
       "      <td>1219</td>\n",
       "      <td>Mixed glioma</td>\n",
       "      <td>2009</td>\n",
       "      <td>No</td>\n",
       "      <td>white</td>\n",
       "      <td>male</td>\n",
       "      <td>not hispanic or latino</td>\n",
       "      <td>Alive</td>\n",
       "      <td>49</td>\n",
       "      <td>0</td>\n",
       "      <td>0</td>\n",
       "      <td>no</td>\n",
       "      <td>no</td>\n",
       "    </tr>\n",
       "    <tr>\n",
       "      <th>1131</th>\n",
       "      <td>TCGA-LGG</td>\n",
       "      <td>TCGA-S9-A6TW</td>\n",
       "      <td>9451/3</td>\n",
       "      <td>Cerebrum</td>\n",
       "      <td>1250</td>\n",
       "      <td>Oligodendroglioma, anaplastic</td>\n",
       "      <td>2011</td>\n",
       "      <td>No</td>\n",
       "      <td>white</td>\n",
       "      <td>male</td>\n",
       "      <td>not hispanic or latino</td>\n",
       "      <td>Alive</td>\n",
       "      <td>40</td>\n",
       "      <td>0</td>\n",
       "      <td>0</td>\n",
       "      <td>yes</td>\n",
       "      <td>no</td>\n",
       "    </tr>\n",
       "  </tbody>\n",
       "</table>\n",
       "<p>1111 rows × 17 columns</p>\n",
       "</div>"
      ],
      "text/plain": [
       "       project  submitter_id morphology tissue_or_organ_of_origin  \\\n",
       "0     TCGA-GBM  TCGA-06-0122     9440/3                Brain, NOS   \n",
       "1     TCGA-GBM  TCGA-02-0016     9440/3                Brain, NOS   \n",
       "2     TCGA-GBM  TCGA-06-2566     9440/3                Brain, NOS   \n",
       "3     TCGA-GBM  TCGA-12-5301     9440/3                Brain, NOS   \n",
       "4     TCGA-GBM  TCGA-41-2573     9440/3                Brain, NOS   \n",
       "...        ...           ...        ...                       ...   \n",
       "1127  TCGA-LGG  TCGA-DU-7306     9382/3                  Cerebrum   \n",
       "1128  TCGA-LGG  TCGA-HT-7873     9382/3                  Cerebrum   \n",
       "1129  TCGA-LGG  TCGA-HW-7490     9400/3                  Cerebrum   \n",
       "1130  TCGA-LGG  TCGA-FG-7637     9382/3                  Cerebrum   \n",
       "1131  TCGA-LGG  TCGA-S9-A6TW     9451/3                  Cerebrum   \n",
       "\n",
       "      days_to_last_follow_up              primary_diagnosis  \\\n",
       "0                          8                   Glioblastoma   \n",
       "1                       1699                   Glioblastoma   \n",
       "2                        182                   Glioblastoma   \n",
       "3                         62                   Glioblastoma   \n",
       "4                        272                   Glioblastoma   \n",
       "...                      ...                            ...   \n",
       "1127                    1277                   Mixed glioma   \n",
       "1128                     718                   Mixed glioma   \n",
       "1129                    1387               Astrocytoma, NOS   \n",
       "1130                    1219                   Mixed glioma   \n",
       "1131                    1250  Oligodendroglioma, anaplastic   \n",
       "\n",
       "      year_of_diagnosis prior_treatment   race  gender  \\\n",
       "0                  2006              No  white  female   \n",
       "1                  2004              No  white    male   \n",
       "2                  2009              No  white  female   \n",
       "3                  2010              No  white    male   \n",
       "4                  2009              No  white    male   \n",
       "...                 ...             ...    ...     ...   \n",
       "1127               2008              No  white    male   \n",
       "1128               2011              No  white    male   \n",
       "1129               2011              No  white    male   \n",
       "1130               2009              No  white    male   \n",
       "1131               2011              No  white    male   \n",
       "\n",
       "                   ethnicity vital_status  age_at_index  days_to_death  \\\n",
       "0     not hispanic or latino         Dead            84            187   \n",
       "1     not hispanic or latino         Dead            50           2648   \n",
       "2     not hispanic or latino         Dead            23            182   \n",
       "3     not hispanic or latino         Dead            59             62   \n",
       "4     not hispanic or latino        Alive            59              0   \n",
       "...                      ...          ...           ...            ...   \n",
       "1127  not hispanic or latino        Alive            67              0   \n",
       "1128  not hispanic or latino        Alive            29              0   \n",
       "1129  not hispanic or latino        Alive            41              0   \n",
       "1130  not hispanic or latino        Alive            49              0   \n",
       "1131  not hispanic or latino        Alive            40              0   \n",
       "\n",
       "      year_of_death treatments_pharmaceutical_treatment_or_therapy  \\\n",
       "0              2006                                   not reported   \n",
       "1                 0                                            yes   \n",
       "2              2009                                            yes   \n",
       "3              2010                                            yes   \n",
       "4                 0                                            yes   \n",
       "...             ...                                            ...   \n",
       "1127              0                                            yes   \n",
       "1128              0                                             no   \n",
       "1129              0                                             no   \n",
       "1130              0                                             no   \n",
       "1131              0                                            yes   \n",
       "\n",
       "     treatments_radiation_treatment_or_therapy  \n",
       "0                                 not reported  \n",
       "1                                          yes  \n",
       "2                                          yes  \n",
       "3                                          yes  \n",
       "4                                          yes  \n",
       "...                                        ...  \n",
       "1127                                       yes  \n",
       "1128                                       yes  \n",
       "1129                                        no  \n",
       "1130                                        no  \n",
       "1131                                        no  \n",
       "\n",
       "[1111 rows x 17 columns]"
      ]
     },
     "execution_count": 17,
     "metadata": {},
     "output_type": "execute_result"
    }
   ],
   "source": [
    "datos_clinica['project'] = datos_clinica['project'].astype('category')\n",
    "datos_clinica['morphology'] = datos_clinica['morphology'].astype('category')\n",
    "datos_clinica['tissue_or_organ_of_origin'] = datos_clinica['tissue_or_organ_of_origin'].astype('category')\n",
    "datos_clinica['primary_diagnosis'] = datos_clinica['primary_diagnosis'].astype('category')\n",
    "datos_clinica['prior_treatment'] = datos_clinica['prior_treatment'].astype('category')\n",
    "datos_clinica['race'] = datos_clinica['race'].astype('category')\n",
    "datos_clinica['gender'] = datos_clinica['gender'].astype('category')\n",
    "datos_clinica['ethnicity'] = datos_clinica['ethnicity'].astype('category')\n",
    "datos_clinica['vital_status'] = datos_clinica['vital_status'].astype('category')\n",
    "datos_clinica['treatments_pharmaceutical_treatment_or_therapy'] = datos_clinica['treatments_pharmaceutical_treatment_or_therapy'].astype('category')\n",
    "datos_clinica['treatments_radiation_treatment_or_therapy'] = datos_clinica['treatments_radiation_treatment_or_therapy'].astype('category')\n",
    "datos_clinica"
   ]
  },
  {
   "cell_type": "markdown",
   "id": "3cfd1c7e-6061-47bc-8510-ecc46cd914bf",
   "metadata": {},
   "source": [
    "Como las variables <i>prior_treatment</i>, <i>treatments_pharmaceutical_treatment_or_therapy</i> y <i>treatments_radiation_treatment_or_therapy</i> presentan varios valores, donde \"No\" y \"Not Reported\" son similares, convertiremos \"Not Reported\" a \"No\":"
   ]
  },
  {
   "cell_type": "code",
   "execution_count": 18,
   "id": "b4b5255d-87bc-41de-bb50-c08305ec0c87",
   "metadata": {},
   "outputs": [],
   "source": [
    "datos_clinica['prior_treatment'] = datos_clinica['prior_treatment'].replace(['Not Reported'], 'No').replace(['Yes'], 'yes').replace(['No'], 'no')\n",
    "\n",
    "datos_clinica['treatments_pharmaceutical_treatment_or_therapy'] = datos_clinica['treatments_pharmaceutical_treatment_or_therapy'].replace(['not reported'], 'no')\n",
    "datos_clinica['treatments_radiation_treatment_or_therapy'] = datos_clinica['treatments_radiation_treatment_or_therapy'].replace(['not reported'], 'no')"
   ]
  },
  {
   "cell_type": "markdown",
   "id": "a1bb42ad-3b85-47f6-97dc-b631377a0d5f",
   "metadata": {},
   "source": [
    "Para la variable <i>ethnicity</i>, tenemos los siguientes valores: \"hispanic or latino\", \"not hispanic or latino\" y \"not reported\", por lo que los dejaremos como \"hispanic or latino\" y \"others\""
   ]
  },
  {
   "cell_type": "code",
   "execution_count": 19,
   "id": "81e55d9f-fcef-474a-b0eb-6fbdc7e1f09f",
   "metadata": {},
   "outputs": [],
   "source": [
    "datos_clinica['ethnicity'] = datos_clinica['ethnicity'].replace(['not hispanic or latino'], 'others').replace(['not reported'], 'others')"
   ]
  },
  {
   "cell_type": "markdown",
   "id": "9b5b6422-0719-4710-a27b-2059c900af30",
   "metadata": {},
   "source": [
    "##### 2.2.1 Variable Objetivo"
   ]
  },
  {
   "cell_type": "markdown",
   "id": "cb01eb11-a75b-4d6a-8e21-28a73cc573e1",
   "metadata": {},
   "source": [
    "La <b>variable objetivo</b> será la variable <i>vital_status</i>, por lo que pasaremos a convertir los valores a 0 si la persona no ha sobrevivido, y 1 si la persona si ha sobrevivido"
   ]
  },
  {
   "cell_type": "code",
   "execution_count": 20,
   "id": "42a059be-f509-43dc-908a-e066bce96af2",
   "metadata": {},
   "outputs": [
    {
     "data": {
      "text/plain": [
       "Dead            618\n",
       "Alive           489\n",
       "Not Reported      4\n",
       "Name: vital_status, dtype: int64"
      ]
     },
     "execution_count": 20,
     "metadata": {},
     "output_type": "execute_result"
    }
   ],
   "source": [
    "datos_clinica['vital_status'].value_counts()"
   ]
  },
  {
   "cell_type": "markdown",
   "id": "f6a64fdc-f303-41b1-9ea4-33b4a92b593d",
   "metadata": {},
   "source": [
    "Como se puede apreciar, tenemos 4 registros de personas que no sabemos su estado, por lo que vamos a comprobar con la variable <i>days_to_death</i> si el valor es 0 o no, para pasar esos registros a sobrevive o no:"
   ]
  },
  {
   "cell_type": "code",
   "execution_count": 21,
   "id": "25523e8d-b8a5-46e2-9753-924d33653d43",
   "metadata": {},
   "outputs": [
    {
     "data": {
      "text/plain": [
       "239    0\n",
       "294    0\n",
       "502    0\n",
       "734    0\n",
       "Name: days_to_death, dtype: int32"
      ]
     },
     "execution_count": 21,
     "metadata": {},
     "output_type": "execute_result"
    }
   ],
   "source": [
    "comprobamos = datos_clinica.loc[datos_clinica['vital_status'] == 'Not Reported', 'days_to_death']\n",
    "comprobamos"
   ]
  },
  {
   "cell_type": "markdown",
   "id": "aecf4891-e628-486d-9aab-339b7def3324",
   "metadata": {},
   "source": [
    "Como se puede apreciar, en la variable <i>days_to_death</i> el valor es 0, por lo que podemos convertir los valores de 'not reported' a Alive"
   ]
  },
  {
   "cell_type": "code",
   "execution_count": 22,
   "id": "8a3a5f8f-a3b1-482a-bcaf-7487325e59ff",
   "metadata": {},
   "outputs": [],
   "source": [
    "datos_clinica['vital_status'] = datos_clinica['vital_status'].replace(['Not Reported'], 'Alive')"
   ]
  },
  {
   "cell_type": "code",
   "execution_count": 23,
   "id": "3323ef30-acf4-433e-a3a6-97bf0bf8d1a4",
   "metadata": {},
   "outputs": [
    {
     "data": {
      "text/plain": [
       "Dead     618\n",
       "Alive    493\n",
       "Name: vital_status, dtype: int64"
      ]
     },
     "execution_count": 23,
     "metadata": {},
     "output_type": "execute_result"
    }
   ],
   "source": [
    "datos_clinica['vital_status'].value_counts()"
   ]
  },
  {
   "cell_type": "markdown",
   "id": "c0aac665-81d9-44d3-a27b-fdd036a2d67b",
   "metadata": {},
   "source": [
    "Una vez ya tenemos la variable correctamente definida, convertimos las valores a 0 y 1:"
   ]
  },
  {
   "cell_type": "code",
   "execution_count": 24,
   "id": "eddfd4a4-b688-48e8-9480-8922f4bca6b0",
   "metadata": {},
   "outputs": [],
   "source": [
    "mapeo = {'Dead': 0, 'Alive': 1}"
   ]
  },
  {
   "cell_type": "code",
   "execution_count": 25,
   "id": "99b79674-1e23-4913-9bf6-e85324fde72c",
   "metadata": {},
   "outputs": [],
   "source": [
    "datos_clinica['vital_status'] = datos_clinica['vital_status'].map(mapeo)"
   ]
  },
  {
   "cell_type": "code",
   "execution_count": 26,
   "id": "1ee56805-5edd-4812-b010-1af24b652926",
   "metadata": {},
   "outputs": [
    {
     "data": {
      "text/plain": [
       "0    618\n",
       "1    493\n",
       "Name: vital_status, dtype: int64"
      ]
     },
     "execution_count": 26,
     "metadata": {},
     "output_type": "execute_result"
    }
   ],
   "source": [
    "datos_clinica['vital_status'].value_counts()"
   ]
  },
  {
   "cell_type": "markdown",
   "id": "b53f6d4a",
   "metadata": {},
   "source": [
    "### 3. Exploración de los Datos"
   ]
  },
  {
   "cell_type": "markdown",
   "id": "c629a4b6-42b5-4a7c-81f6-9df9ebd0c172",
   "metadata": {},
   "source": [
    "El primer paso, va a ser realizar un nuevo CSV con los datos más relevantes, ya que están limpios y normalizados:"
   ]
  },
  {
   "cell_type": "code",
   "execution_count": 27,
   "id": "d25925c7-698d-4d3f-9cc0-7fdc8e62f232",
   "metadata": {},
   "outputs": [],
   "source": [
    "# datos_clinica.to_csv('datos_clinica.csv', index=False)\n",
    "# datos_clinica.to_excel('datos_clinica.xlsx', index=False)"
   ]
  },
  {
   "cell_type": "markdown",
   "id": "60310919-ec37-4deb-9c1e-96dcb266f911",
   "metadata": {},
   "source": [
    "#### 3.1 Resumen Estadístico"
   ]
  },
  {
   "cell_type": "markdown",
   "id": "f70e8797-402c-485d-97fd-c01afed06d80",
   "metadata": {},
   "source": [
    "Vamos a realizar un resumen estadístico de las variables numéricas"
   ]
  },
  {
   "cell_type": "code",
   "execution_count": 28,
   "id": "ddc0e133-a0a2-4207-8684-aa2ba1ac8d91",
   "metadata": {},
   "outputs": [
    {
     "data": {
      "text/html": [
       "<div>\n",
       "<style scoped>\n",
       "    .dataframe tbody tr th:only-of-type {\n",
       "        vertical-align: middle;\n",
       "    }\n",
       "\n",
       "    .dataframe tbody tr th {\n",
       "        vertical-align: top;\n",
       "    }\n",
       "\n",
       "    .dataframe thead th {\n",
       "        text-align: right;\n",
       "    }\n",
       "</style>\n",
       "<table border=\"1\" class=\"dataframe\">\n",
       "  <thead>\n",
       "    <tr style=\"text-align: right;\">\n",
       "      <th></th>\n",
       "      <th>days_to_last_follow_up</th>\n",
       "      <th>year_of_diagnosis</th>\n",
       "      <th>age_at_index</th>\n",
       "      <th>days_to_death</th>\n",
       "      <th>year_of_death</th>\n",
       "    </tr>\n",
       "  </thead>\n",
       "  <tbody>\n",
       "    <tr>\n",
       "      <th>count</th>\n",
       "      <td>1111.000000</td>\n",
       "      <td>1111.000000</td>\n",
       "      <td>1111.000000</td>\n",
       "      <td>1111.000000</td>\n",
       "      <td>1111.000000</td>\n",
       "    </tr>\n",
       "    <tr>\n",
       "      <th>mean</th>\n",
       "      <td>561.675068</td>\n",
       "      <td>2006.817282</td>\n",
       "      <td>50.927993</td>\n",
       "      <td>359.946895</td>\n",
       "      <td>972.517552</td>\n",
       "    </tr>\n",
       "    <tr>\n",
       "      <th>std</th>\n",
       "      <td>723.728128</td>\n",
       "      <td>5.231050</td>\n",
       "      <td>15.780483</td>\n",
       "      <td>651.713721</td>\n",
       "      <td>1002.303181</td>\n",
       "    </tr>\n",
       "    <tr>\n",
       "      <th>min</th>\n",
       "      <td>-1.000000</td>\n",
       "      <td>1989.000000</td>\n",
       "      <td>10.000000</td>\n",
       "      <td>0.000000</td>\n",
       "      <td>0.000000</td>\n",
       "    </tr>\n",
       "    <tr>\n",
       "      <th>25%</th>\n",
       "      <td>104.500000</td>\n",
       "      <td>2004.000000</td>\n",
       "      <td>38.000000</td>\n",
       "      <td>0.000000</td>\n",
       "      <td>0.000000</td>\n",
       "    </tr>\n",
       "    <tr>\n",
       "      <th>50%</th>\n",
       "      <td>359.000000</td>\n",
       "      <td>2008.000000</td>\n",
       "      <td>52.000000</td>\n",
       "      <td>96.000000</td>\n",
       "      <td>0.000000</td>\n",
       "    </tr>\n",
       "    <tr>\n",
       "      <th>75%</th>\n",
       "      <td>702.500000</td>\n",
       "      <td>2011.000000</td>\n",
       "      <td>63.000000</td>\n",
       "      <td>466.000000</td>\n",
       "      <td>2005.000000</td>\n",
       "    </tr>\n",
       "    <tr>\n",
       "      <th>max</th>\n",
       "      <td>6423.000000</td>\n",
       "      <td>2013.000000</td>\n",
       "      <td>89.000000</td>\n",
       "      <td>5166.000000</td>\n",
       "      <td>2013.000000</td>\n",
       "    </tr>\n",
       "  </tbody>\n",
       "</table>\n",
       "</div>"
      ],
      "text/plain": [
       "       days_to_last_follow_up  year_of_diagnosis  age_at_index  days_to_death  \\\n",
       "count             1111.000000        1111.000000   1111.000000    1111.000000   \n",
       "mean               561.675068        2006.817282     50.927993     359.946895   \n",
       "std                723.728128           5.231050     15.780483     651.713721   \n",
       "min                 -1.000000        1989.000000     10.000000       0.000000   \n",
       "25%                104.500000        2004.000000     38.000000       0.000000   \n",
       "50%                359.000000        2008.000000     52.000000      96.000000   \n",
       "75%                702.500000        2011.000000     63.000000     466.000000   \n",
       "max               6423.000000        2013.000000     89.000000    5166.000000   \n",
       "\n",
       "       year_of_death  \n",
       "count    1111.000000  \n",
       "mean      972.517552  \n",
       "std      1002.303181  \n",
       "min         0.000000  \n",
       "25%         0.000000  \n",
       "50%         0.000000  \n",
       "75%      2005.000000  \n",
       "max      2013.000000  "
      ]
     },
     "execution_count": 28,
     "metadata": {},
     "output_type": "execute_result"
    }
   ],
   "source": [
    "datos_clinica.describe()"
   ]
  },
  {
   "cell_type": "code",
   "execution_count": 29,
   "id": "674d7184",
   "metadata": {},
   "outputs": [
    {
     "data": {
      "image/png": "[encoded data removed]",
      "text/plain": [
       "<Figure size 432x288 with 1 Axes>"
      ]
     },
     "metadata": {
      "needs_background": "light"
     },
     "output_type": "display_data"
    }
   ],
   "source": [
    "plt.hist(datos_clinica['year_of_diagnosis'], width = 2, color = 'green')\n",
    "plt.title('Diagnosis realizadas cada año')\n",
    "plt.show()"
   ]
  },
  {
   "cell_type": "markdown",
   "id": "850b3316-e54c-4dee-96df-d6c9785e873d",
   "metadata": {},
   "source": [
    "Como se puede apreciar, el número de Diagnosis realizadas se ha ido incrementando con el paso del tiempo"
   ]
  },
  {
   "cell_type": "code",
   "execution_count": 30,
   "id": "80e43b42-2d92-4d4e-9bfe-aa5ba938b090",
   "metadata": {},
   "outputs": [
    {
     "data": {
      "image/png": "[encoded data removed]",
      "text/plain": [
       "<Figure size 432x288 with 1 Axes>"
      ]
     },
     "metadata": {
      "needs_background": "light"
     },
     "output_type": "display_data"
    }
   ],
   "source": [
    "plt.hist(datos_clinica['age_at_index'], width = 6)\n",
    "plt.title('Diagnosis realizadas a personas con diferente edad')\n",
    "plt.show()"
   ]
  },
  {
   "cell_type": "markdown",
   "id": "e2c49166-1a62-4d66-bc42-7601b3a562e5",
   "metadata": {},
   "source": [
    "<b>Entre los 25 y los 70 años de edad, es cuántas más diagnosis se realizan</b>"
   ]
  },
  {
   "cell_type": "markdown",
   "id": "0d600b68-70bb-4c36-ad70-d4d1c6c58cd4",
   "metadata": {},
   "source": [
    "#### 3.2 Distribución de las Variables Categóricas"
   ]
  },
  {
   "cell_type": "markdown",
   "id": "44897ee9-7d9d-4afb-9b63-a0608cbdbb0d",
   "metadata": {},
   "source": [
    "En primer lugar, conviene conocer el <b>género</b> y la <b>edad</b> de los pacientes"
   ]
  },
  {
   "cell_type": "code",
   "execution_count": 31,
   "id": "6e50ef3e-6591-4d95-b9cb-eb2b716db19c",
   "metadata": {},
   "outputs": [
    {
     "data": {
      "image/png": "[encoded data removed]",
      "text/plain": [
       "<Figure size 432x288 with 1 Axes>"
      ]
     },
     "metadata": {},
     "output_type": "display_data"
    }
   ],
   "source": [
    "comparativa_genero = datos_clinica['gender'].value_counts(normalize=True)\n",
    "labels = ['Hombres', 'Mujeres']\n",
    "explode = [0.05, 0]  # Resaltar la porción de \"Distintos de 0\"\n",
    "\n",
    "plt.pie(comparativa_genero.values, \n",
    "        explode = explode, \n",
    "        labels = labels, \n",
    "        autopct = '%1.1f%%', \n",
    "        startangle = 90)\n",
    "plt.axis('equal')\n",
    "\n",
    "plt.title('Número de Casos respecto al Género')\n",
    "plt.show()"
   ]
  },
  {
   "cell_type": "markdown",
   "id": "562c365f-dd20-4059-b702-a4820e86b9eb",
   "metadata": {},
   "source": [
    "Del total de personas diagnosticadas con gliomas, tenemos un 58.6% en el género masculino, y un 41.4% del género femenino."
   ]
  },
  {
   "cell_type": "markdown",
   "id": "3bebdd98-c831-4b16-bf84-46ddaea5f492",
   "metadata": {},
   "source": [
    "Y realizamos una visualización conjunta de género y edad:"
   ]
  },
  {
   "cell_type": "code",
   "execution_count": 32,
   "id": "ff4e388d-02f5-453b-b812-83f01a2a3791",
   "metadata": {},
   "outputs": [],
   "source": [
    "df_hombre_edad = datos_clinica[datos_clinica['gender']=='male']['age_at_index']\n",
    "df_mujeres_edad = datos_clinica[datos_clinica['gender']=='female']['age_at_index']"
   ]
  },
  {
   "cell_type": "code",
   "execution_count": 33,
   "id": "77610287-e42e-4e3e-915e-ecd30b25cc85",
   "metadata": {
    "tags": []
   },
   "outputs": [
    {
     "data": {
      "image/png": "[encoded data removed]",
      "text/plain": [
       "<Figure size 432x288 with 1 Axes>"
      ]
     },
     "metadata": {
      "needs_background": "light"
     },
     "output_type": "display_data"
    }
   ],
   "source": [
    "plt.hist([df_hombre_edad, df_mujeres_edad], \n",
    "         label = ['Hombres', 'Mujeres'],\n",
    "         width = 6,\n",
    "         stacked = True)\n",
    "\n",
    "plt.title('Histograma por Edad y Género')\n",
    "plt.legend(prop = {'size': 10})\n",
    "plt.show()"
   ]
  },
  {
   "cell_type": "markdown",
   "id": "2e095a90-1585-4f48-8353-3e60d4ce3059",
   "metadata": {},
   "source": [
    "Mediante esta visualización, podemos ver como en la gran mayoría de rangos de edades, <b>tenemos más hombres que mujeres</b>"
   ]
  },
  {
   "cell_type": "markdown",
   "id": "fca6e454-7c7b-49f1-b5b8-831052ffdad6",
   "metadata": {},
   "source": [
    "También vamos a estudiar cuántos casos tenemos de diferentes razas"
   ]
  },
  {
   "cell_type": "code",
   "execution_count": 34,
   "id": "9d2b7802-b664-46c1-b92a-42c0c2695cd8",
   "metadata": {},
   "outputs": [
    {
     "data": {
      "image/png": "[encoded data removed]",
      "text/plain": [
       "<Figure size 432x288 with 1 Axes>"
      ]
     },
     "metadata": {
      "needs_background": "light"
     },
     "output_type": "display_data"
    }
   ],
   "source": [
    "frecuencia = datos_clinica['race'].value_counts()\n",
    "\n",
    "plt.bar(frecuencia.index, frecuencia.values)\n",
    "\n",
    "plt.ylabel('Número de Muestras')\n",
    "plt.title('Distribución respecto a la Raza de las Personas')\n",
    "plt.xticks(rotation = 90)\n",
    "plt.show()"
   ]
  },
  {
   "cell_type": "markdown",
   "id": "6b4087d1-c398-4154-aa8b-9b4e39032b2a",
   "metadata": {},
   "source": [
    "Como se puede apreciar, casi todos los casos corresponden a personas de <b>raza 'blanca'</b>"
   ]
  },
  {
   "cell_type": "markdown",
   "id": "f4f1377f-2fff-4886-ab5a-e9099c82c571",
   "metadata": {},
   "source": [
    "Y en cuanto a la <b>etnia</b>:"
   ]
  },
  {
   "cell_type": "code",
   "execution_count": 35,
   "id": "17c58978-bb49-4d71-829f-3e04c9202ba9",
   "metadata": {},
   "outputs": [
    {
     "data": {
      "image/png": "[encoded data removed]",
      "text/plain": [
       "<Figure size 432x288 with 1 Axes>"
      ]
     },
     "metadata": {
      "needs_background": "light"
     },
     "output_type": "display_data"
    }
   ],
   "source": [
    "frecuencia = datos_clinica['ethnicity'].value_counts()\n",
    "\n",
    "plt.bar(frecuencia.index, frecuencia.values)\n",
    "\n",
    "plt.ylabel('Número de Muestras')\n",
    "plt.title('Distribución respecto a la Etnia de las Personas')\n",
    "\n",
    "plt.show()"
   ]
  },
  {
   "cell_type": "markdown",
   "id": "82442680-fb9c-4f75-89dc-62eb4381070b",
   "metadata": {},
   "source": [
    "Por lo que la etnia tampoco nos proporciona mucho valor"
   ]
  },
  {
   "cell_type": "markdown",
   "id": "8294c26d-b43a-4d32-91e3-37e7a1b25870",
   "metadata": {},
   "source": [
    "Otro aspecto importante, es conocer cuántos casos tenemos de <b>glioblastomas</b> y cuántos de <b>otros gliomas</b>:"
   ]
  },
  {
   "cell_type": "code",
   "execution_count": 36,
   "id": "4ae3553d-b4f8-414d-b5f1-f95f018b740f",
   "metadata": {},
   "outputs": [
    {
     "data": {
      "image/png": "[encoded data removed]",
      "text/plain": [
       "<Figure size 432x288 with 1 Axes>"
      ]
     },
     "metadata": {},
     "output_type": "display_data"
    }
   ],
   "source": [
    "comparativa = datos_clinica['project'].value_counts(normalize=True)\n",
    "labels = ['Glioblastomas', 'Otros Gliomas']\n",
    "explode = [0.05, 0]  # Resaltar la porción de \"Distintos de 0\"\n",
    "\n",
    "plt.pie(comparativa.values, \n",
    "        explode = explode, \n",
    "        labels = labels, \n",
    "        autopct = '%1.1f%%', \n",
    "        startangle = 90)\n",
    "plt.axis('equal')\n",
    "\n",
    "plt.title('Casos de Glioblastomas vs Otros Gliomas')\n",
    "plt.show()"
   ]
  },
  {
   "cell_type": "markdown",
   "id": "94cf1a00-aad7-4dd4-b629-055a49ee2bfe",
   "metadata": {},
   "source": [
    "Tal y como se puede apreciar, en el conjunto de datos tenemos un <b>53.6%</b> de casos relacionados con los <b>Glioblastomas</b>, y un <b>46.4%</b> de <b>otros gliomas</b>."
   ]
  },
  {
   "cell_type": "markdown",
   "id": "606830fc-1960-4bc3-83a8-a82df1f0784e",
   "metadata": {},
   "source": [
    "También podemos visualizar los distintos <b>tipos de gliomas</b> a los que nos enfrentamos"
   ]
  },
  {
   "cell_type": "code",
   "execution_count": 37,
   "id": "0b891f3f-e103-436b-9169-41b8b489c1f9",
   "metadata": {},
   "outputs": [
    {
     "data": {
      "image/png": "[encoded data removed]",
      "text/plain": [
       "<Figure size 432x288 with 1 Axes>"
      ]
     },
     "metadata": {},
     "output_type": "display_data"
    }
   ],
   "source": [
    "comparativa = datos_clinica['primary_diagnosis'].value_counts(normalize=True)\n",
    "\n",
    "plt.pie(comparativa.values,  \n",
    "        labels = comparativa.index, \n",
    "        autopct = '%1.1f%%', \n",
    "        startangle = 90)\n",
    "plt.axis('equal')\n",
    "\n",
    "plt.suptitle('Tipos de Gliomas', y = 0.95)\n",
    "plt.subplots_adjust(top = 0.85)\n",
    "plt.show()"
   ]
  },
  {
   "cell_type": "markdown",
   "id": "2dd929a7-4474-4643-b52a-330bc117b56c",
   "metadata": {},
   "source": [
    "Visualizamos las diferentes <b>morfologías</b> que encontramos:"
   ]
  },
  {
   "cell_type": "code",
   "execution_count": 38,
   "id": "0ae0c23d-6df2-421e-b04e-343fd7e21e27",
   "metadata": {},
   "outputs": [
    {
     "data": {
      "image/png": "[encoded data removed]",
      "text/plain": [
       "<Figure size 432x288 with 1 Axes>"
      ]
     },
     "metadata": {
      "needs_background": "light"
     },
     "output_type": "display_data"
    }
   ],
   "source": [
    "frecuencia = datos_clinica['morphology'].value_counts()\n",
    "\n",
    "plt.bar(frecuencia.index, frecuencia.values)\n",
    "\n",
    "plt.xlabel('Categorías')\n",
    "plt.ylabel('Número de Muestras')\n",
    "plt.title('Distribución de la Morfología')\n",
    "plt.show()"
   ]
  },
  {
   "cell_type": "markdown",
   "id": "ebb047b8-c068-420b-af5d-0a2481b52c99",
   "metadata": {},
   "source": [
    "#### 3.3 Análisis de la Supervivencia"
   ]
  },
  {
   "cell_type": "markdown",
   "id": "f74ad343-9e6d-4bab-841f-01e075cc48b3",
   "metadata": {},
   "source": [
    "El siguiente paso será comprobar cuántas personas no han conseguido sobrevivir, y cuántas si lo han conseguido: "
   ]
  },
  {
   "cell_type": "code",
   "execution_count": 39,
   "id": "42713302-081a-41a2-96d5-67ae1b06dd84",
   "metadata": {},
   "outputs": [],
   "source": [
    "no_sobrevive = (datos_clinica['vital_status'] == 0).sum()\n",
    "\n",
    "si_sobrevive = (datos_clinica['vital_status'] == 1).sum()"
   ]
  },
  {
   "cell_type": "code",
   "execution_count": 40,
   "id": "09cb1def-c5f4-43a5-9994-28150b0450fc",
   "metadata": {},
   "outputs": [
    {
     "data": {
      "image/png": "[encoded data removed]",
      "text/plain": [
       "<Figure size 432x288 with 1 Axes>"
      ]
     },
     "metadata": {},
     "output_type": "display_data"
    }
   ],
   "source": [
    "comparativa_supervivencia = [no_sobrevive, si_sobrevive]\n",
    "labels = ['No Supervivientes', 'Supervivientes']\n",
    "explode = [0.05, 0]  # Resaltar la porción de \"Distintos de 0\"\n",
    "\n",
    "plt.pie(comparativa_supervivencia, \n",
    "        explode = explode, \n",
    "        labels = labels, \n",
    "        autopct = '%1.1f%%', \n",
    "        startangle = 90)\n",
    "plt.axis('equal')\n",
    "\n",
    "plt.title('Porcentaje de Supervivencia vs No supervivencia')\n",
    "plt.show()"
   ]
  },
  {
   "cell_type": "markdown",
   "id": "05aa2d01-cbd0-4d55-8eef-e8de31c8c8bd",
   "metadata": {},
   "source": [
    "Contamos con un 44.4% de supervivientes"
   ]
  },
  {
   "cell_type": "markdown",
   "id": "020eea56-a7a3-4720-8480-dcafd5aec7b0",
   "metadata": {},
   "source": [
    "Ahora estudiaremos la relación entre el <b>género</b> y las <b>probabilidades de sobrevivir</b>:"
   ]
  },
  {
   "cell_type": "markdown",
   "id": "bd8516d5-4cce-4eee-b71a-4b7d6efda87a",
   "metadata": {},
   "source": [
    "Primero haremos las agrupaciones"
   ]
  },
  {
   "cell_type": "code",
   "execution_count": 41,
   "id": "cac9f936-b00e-4815-8626-05805137bbee",
   "metadata": {},
   "outputs": [],
   "source": [
    "hombres = datos_clinica[datos_clinica['gender'] == 'male']\n",
    "mujeres = datos_clinica[datos_clinica['gender'] == 'female']"
   ]
  },
  {
   "cell_type": "code",
   "execution_count": 42,
   "id": "cf0061a8-9ffa-4df5-999c-e2f40061d01a",
   "metadata": {},
   "outputs": [],
   "source": [
    "# Calculamos el porcentaje de hombres que sobreviven y los que no\n",
    "porcentaje_hombres_sobreviven = (hombres['vital_status'] == 1).mean() * 100\n",
    "porcentaje_hombres_no_sobreviven = (hombres['vital_status'] == 0).mean() * 100\n",
    "\n",
    "# Calcular el porcentaje de mujeres que sobreviven y las que no\n",
    "porcentaje_mujeres_sobreviven = (mujeres['vital_status'] == 1).mean() * 100\n",
    "porcentaje_mujeres_no_sobreviven = (mujeres['vital_status'] == 0).mean() * 100"
   ]
  },
  {
   "cell_type": "code",
   "execution_count": 43,
   "id": "46362691-ce14-425c-8a97-aeb94e78ddb2",
   "metadata": {},
   "outputs": [
    {
     "name": "stdout",
     "output_type": "stream",
     "text": [
      "Porcentaje de hombres que sobreviven: 41.78%\n",
      "Porcentaje de hombres que NO sobreviven: 58.22%\n",
      "Porcentaje de mujeres que sobreviven: 48.04%\n",
      "Porcentaje de mujeres que NO sobreviven: 51.96%\n"
     ]
    }
   ],
   "source": [
    "print(\"Porcentaje de hombres que sobreviven: {:.2f}%\".format(porcentaje_hombres_sobreviven))\n",
    "print(\"Porcentaje de hombres que NO sobreviven: {:.2f}%\".format(porcentaje_hombres_no_sobreviven))\n",
    "print(\"Porcentaje de mujeres que sobreviven: {:.2f}%\".format(porcentaje_mujeres_sobreviven))\n",
    "print(\"Porcentaje de mujeres que NO sobreviven: {:.2f}%\".format(porcentaje_mujeres_no_sobreviven))"
   ]
  },
  {
   "cell_type": "code",
   "execution_count": 44,
   "id": "0cd728dc-a8ae-446b-a3ab-6c0f67930fa9",
   "metadata": {},
   "outputs": [
    {
     "data": {
      "image/png": "[encoded data removed]",
      "text/plain": [
       "<Figure size 432x288 with 1 Axes>"
      ]
     },
     "metadata": {},
     "output_type": "display_data"
    }
   ],
   "source": [
    "# Etiquetas para el eje x\n",
    "etiquetas = ['Hombres', 'Mujeres']\n",
    "\n",
    "\n",
    "valores = [porcentaje_hombres_sobreviven, porcentaje_mujeres_sobreviven]\n",
    "explode = [0.05, 0]  # Resaltar la porción de \"Distintos de 0\"\n",
    "\n",
    "plt.pie(valores, \n",
    "        labels = etiquetas,\n",
    "        explode = explode,\n",
    "        autopct='%1.1f%%',\n",
    "        startangle = 90)\n",
    "\n",
    "plt.axis('equal')\n",
    "plt.title('Porcentaje de Supervivientes por Género')\n",
    "plt.show()"
   ]
  },
  {
   "cell_type": "markdown",
   "id": "37571751-902a-4c31-8968-b5bf3fc851c3",
   "metadata": {},
   "source": [
    "Por tanto, podemos apreciar como <b>el género es un factor importante a tener en cuenta</b>, ya que hay más casos de gliomas en hombres que en mujeres, y, sin embargo, las mujeres tienen más posibilidades de sobrevivir,"
   ]
  },
  {
   "cell_type": "markdown",
   "id": "9c2fcf41-92bd-4203-8a67-0a5e27453381",
   "metadata": {},
   "source": [
    "Ahora comprobaremos como afecta la <b>edad</b> a las provabilidades de sobrevivir:"
   ]
  },
  {
   "cell_type": "code",
   "execution_count": 45,
   "id": "25429b12-42ff-4252-98a6-a2e0d8b82a43",
   "metadata": {},
   "outputs": [],
   "source": [
    "df_edad_no_sobrevive = datos_clinica[datos_clinica['vital_status']== 0]['age_at_index']\n",
    "df_edad_sobrevive = datos_clinica[datos_clinica['vital_status']== 1]['age_at_index']"
   ]
  },
  {
   "cell_type": "code",
   "execution_count": 46,
   "id": "073ff058-fce0-483f-b90b-a2193dc71b79",
   "metadata": {},
   "outputs": [
    {
     "data": {
      "image/png": "[encoded data removed]",
      "text/plain": [
       "<Figure size 432x288 with 1 Axes>"
      ]
     },
     "metadata": {
      "needs_background": "light"
     },
     "output_type": "display_data"
    }
   ],
   "source": [
    "plt.hist([df_edad_no_sobrevive, df_edad_sobrevive], \n",
    "         label = ['No sobrevive', 'Sobrevive'],\n",
    "         width = 6,\n",
    "         stacked = True)\n",
    "\n",
    "plt.title('Histograma de Supervivencia por Edad')\n",
    "plt.legend(prop = {'size': 10})\n",
    "plt.show()"
   ]
  },
  {
   "cell_type": "markdown",
   "id": "e15fbc7f-dd5a-441b-92c5-6d5d31933292",
   "metadata": {},
   "source": [
    "Tal y como se puede visualizar, hasta <b>antes de los 50 años de edad, hay más probabilidades de sobrevivir</b> que a partir de esta edad. Por lo que <b>la edad también es un factor importante a tener en cuenta</b>."
   ]
  },
  {
   "cell_type": "markdown",
   "id": "3b494bee-9ec7-4e22-888d-c67cb8b23b5c",
   "metadata": {},
   "source": [
    "Por último, comprobaremos si los Tratamientos realizados, tienen alguna importancia en las probabilidades de sobrevivir:"
   ]
  },
  {
   "cell_type": "markdown",
   "id": "ec0d68d1-0764-4350-a2e7-73561d0da55c",
   "metadata": {},
   "source": [
    "Primero, comprobaremos cúantas personas tuvieron un \"tratamiento previo\":"
   ]
  },
  {
   "cell_type": "code",
   "execution_count": 47,
   "id": "0a6592de-fe71-4bc8-9728-b7fa23d15a51",
   "metadata": {},
   "outputs": [
    {
     "data": {
      "image/png": "[encoded data removed]",
      "text/plain": [
       "<Figure size 432x288 with 1 Axes>"
      ]
     },
     "metadata": {},
     "output_type": "display_data"
    }
   ],
   "source": [
    "comparativa_tratamientos_previos = datos_clinica['prior_treatment'].value_counts(normalize=True)\n",
    "labels = comparativa_tratamientos_previos.index\n",
    "explode = [0.05, 0]  # Resaltar la porción de \"Distintos de 0\"\n",
    "\n",
    "plt.pie(comparativa_tratamientos_previos.values, \n",
    "        explode = explode, \n",
    "        labels = labels, \n",
    "        autopct = '%1.1f%%', \n",
    "        startangle = 90)\n",
    "plt.axis('equal')\n",
    "\n",
    "plt.suptitle('¿Cuántas personas tuvieron un tratamiento previo a la Diágnosis?', y = 0.95)\n",
    "plt.subplots_adjust(top = 0.85)\n",
    "plt.show()"
   ]
  },
  {
   "cell_type": "markdown",
   "id": "6aefde31-ddac-454a-aab2-4befd91c435d",
   "metadata": {},
   "source": [
    "Tan solo un 2.2% de todas las personas tuvieron un tratamiento previo, por lo que esta variable no nos va a proporcionar información relevante."
   ]
  },
  {
   "cell_type": "markdown",
   "id": "00250e3b-995a-4dee-9c8d-5567ef6c1194",
   "metadata": {},
   "source": [
    "A continuación, analizaremos el impacto que está teniendo los actuales tratamientos que se están implementando, como son los tratamientos farmacéuticos y los tratamientos por radiación:"
   ]
  },
  {
   "cell_type": "markdown",
   "id": "c66d9d67-c848-4566-9182-d0f673dd8495",
   "metadata": {},
   "source": [
    "Visualizamos la distribución de la variable correspondiente a los tratamientos farmaceuticos:"
   ]
  },
  {
   "cell_type": "code",
   "execution_count": 48,
   "id": "aa2559a8-386a-4c7b-8966-ef9235c9dfb6",
   "metadata": {},
   "outputs": [
    {
     "data": {
      "image/png": "[encoded data removed]",
      "text/plain": [
       "<Figure size 432x288 with 1 Axes>"
      ]
     },
     "metadata": {},
     "output_type": "display_data"
    }
   ],
   "source": [
    "comparativa_tratamientos_farmaceuticos = datos_clinica['treatments_pharmaceutical_treatment_or_therapy'].value_counts(normalize=True)\n",
    "labels = comparativa_tratamientos_farmaceuticos.index\n",
    "explode = [0.05, 0]  # Resaltar la porción de \"Distintos de 0\"\n",
    "\n",
    "plt.pie(comparativa_tratamientos_farmaceuticos.values, \n",
    "        explode = explode, \n",
    "        labels = labels, \n",
    "        autopct = '%1.1f%%', \n",
    "        startangle = 90)\n",
    "plt.axis('equal')\n",
    "\n",
    "plt.suptitle('Porcentaje de personas con Tratamiento Farmaceutico', y = 0.95)\n",
    "plt.subplots_adjust(top = 0.85)\n",
    "plt.show()"
   ]
  },
  {
   "cell_type": "markdown",
   "id": "cdf86e7a-0889-476d-ba65-66a056e87465",
   "metadata": {},
   "source": [
    "Visualizamos la distribución de la variable correspondiente a los tratamientos por radioterapia:"
   ]
  },
  {
   "cell_type": "code",
   "execution_count": 49,
   "id": "f84ab8dd-0a64-4bba-bc67-178ceb8c2b34",
   "metadata": {},
   "outputs": [
    {
     "data": {
      "image/png": "[encoded data removed]",
      "text/plain": [
       "<Figure size 432x288 with 1 Axes>"
      ]
     },
     "metadata": {},
     "output_type": "display_data"
    }
   ],
   "source": [
    "comparativa_tratamientos_radioterapia = datos_clinica['treatments_radiation_treatment_or_therapy'].value_counts(normalize=True)\n",
    "labels = comparativa_tratamientos_radioterapia.index\n",
    "explode = [0.05, 0]  # Resaltar la porción de \"Distintos de 0\"\n",
    "\n",
    "plt.pie(comparativa_tratamientos_radioterapia.values, \n",
    "        explode = explode, \n",
    "        labels = labels, \n",
    "        autopct = '%1.1f%%', \n",
    "        startangle = 90)\n",
    "plt.axis('equal')\n",
    "\n",
    "plt.suptitle('Porcentaje de personas con Tratamiento Farmaceutico', y = 0.95)\n",
    "plt.subplots_adjust(top = 0.85)\n",
    "plt.show()"
   ]
  },
  {
   "cell_type": "markdown",
   "id": "3c7eee4f-e8ba-41ba-90c8-23e1549afacc",
   "metadata": {},
   "source": [
    "En ambos casos, la gran mayoría de pacientes, si reciben un tratamiento."
   ]
  },
  {
   "cell_type": "markdown",
   "id": "fd2aff58-ae98-4101-82ea-2f5ff91d3ee1",
   "metadata": {},
   "source": [
    "Por lo que vamos a observar, si las personas con tratamiento, tienen más probabilidades de sobrevivir:"
   ]
  },
  {
   "cell_type": "markdown",
   "id": "db44601c-1972-4608-a535-36502d94f549",
   "metadata": {},
   "source": [
    "Comprobar las probabilidadas de sobrevivir en base a los distintos Gliomas"
   ]
  },
  {
   "cell_type": "code",
   "execution_count": 50,
   "id": "e62b3747-21b5-4577-9a59-960fef4bde64",
   "metadata": {},
   "outputs": [
    {
     "data": {
      "image/png": "[encoded data removed]",
      "text/plain": [
       "<Figure size 432x288 with 1 Axes>"
      ]
     },
     "metadata": {
      "needs_background": "light"
     },
     "output_type": "display_data"
    }
   ],
   "source": [
    "supervivencia_comparativa_tratamiento_farmaceutico = datos_clinica.groupby(['treatments_pharmaceutical_treatment_or_therapy', 'vital_status']).size().unstack()\n",
    "\n",
    "supervivencia_comparativa_tratamiento_farmaceutico.plot(kind='bar', stacked=True)\n",
    "\n",
    "plt.xlabel('Tratamiento Farmacéutico')\n",
    "plt.ylabel('Número de Pacientes')\n",
    "plt.title('Relación entre Tratamiento y Supervivencia')\n",
    "\n",
    "plt.legend(title='Supervivencia', labels=['Si','No'])\n",
    "plt.show()"
   ]
  },
  {
   "cell_type": "code",
   "execution_count": 51,
   "id": "2b73cb82-729a-4ae3-825d-ea243fc0a06b",
   "metadata": {},
   "outputs": [
    {
     "data": {
      "image/png": "[encoded data removed]",
      "text/plain": [
       "<Figure size 432x288 with 1 Axes>"
      ]
     },
     "metadata": {
      "needs_background": "light"
     },
     "output_type": "display_data"
    }
   ],
   "source": [
    "supervivencia_comparativa_tratamiento_radioterapia = datos_clinica.groupby(['treatments_radiation_treatment_or_therapy', 'vital_status']).size().unstack()\n",
    "\n",
    "supervivencia_comparativa_tratamiento_radioterapia.plot(kind='bar', stacked=True)\n",
    "\n",
    "plt.xlabel('Tratamiento Radioterapia')\n",
    "plt.ylabel('Número de Pacientes')\n",
    "plt.title('Relación entre Tratamiento y Supervivencia')\n",
    "\n",
    "plt.legend(title='Supervivencia', labels=['Si','No'])\n",
    "plt.show()"
   ]
  },
  {
   "cell_type": "markdown",
   "id": "be34479f-1be7-48c1-af52-6fa2afc1dece",
   "metadata": {},
   "source": [
    "Como se aprecia en las gráficas, ambos tratamientos obtienen, a groso modo, el mismo índice de supervivencia."
   ]
  },
  {
   "cell_type": "markdown",
   "id": "36b97d9f-5f8a-47b4-b0b5-368db6d75d38",
   "metadata": {},
   "source": [
    "Por último, estudiaremos la relación de los diferentes Gliomas con las probabilidades de sobrevivir:"
   ]
  },
  {
   "cell_type": "code",
   "execution_count": 52,
   "id": "36e72919-c3e6-4a47-9cba-7d66426f418c",
   "metadata": {},
   "outputs": [
    {
     "data": {
      "image/png": "[encoded data removed]",
      "text/plain": [
       "<Figure size 432x288 with 1 Axes>"
      ]
     },
     "metadata": {
      "needs_background": "light"
     },
     "output_type": "display_data"
    }
   ],
   "source": [
    "supervivencia_gliomas = datos_clinica.groupby(['project', 'vital_status']).size().unstack()\n",
    "\n",
    "supervivencia_gliomas.plot(kind='bar', stacked=True)\n",
    "\n",
    "plt.xlabel('Tipos de Gliomas')\n",
    "plt.ylabel('Número de Pacientes')\n",
    "plt.title('Relación entre los Gliomas y Supervivencia')\n",
    "\n",
    "plt.legend(title='Supervivencia', labels=['Si','No'])\n",
    "plt.show()"
   ]
  },
  {
   "cell_type": "markdown",
   "id": "4674f65b-24fd-461f-8c60-a580af3a6a38",
   "metadata": {},
   "source": [
    "Podemos ver con más detalle los <b>otros tipos de gliomas</b>"
   ]
  },
  {
   "cell_type": "code",
   "execution_count": 53,
   "id": "d7721e32-37fa-4d7b-82d7-8a0f05cab069",
   "metadata": {},
   "outputs": [
    {
     "data": {
      "image/png": "[encoded data removed]",
      "text/plain": [
       "<Figure size 432x288 with 1 Axes>"
      ]
     },
     "metadata": {
      "needs_background": "light"
     },
     "output_type": "display_data"
    }
   ],
   "source": [
    "supervivencia_gliomas = datos_clinica.groupby(['primary_diagnosis', 'vital_status']).size().unstack()\n",
    "\n",
    "supervivencia_gliomas.plot(kind='bar', stacked=True)\n",
    "\n",
    "plt.xlabel('Tipos de Gliomas')\n",
    "plt.ylabel('Número de Pacientes')\n",
    "plt.title('Relación entre los Gliomas y Supervivencia')\n",
    "\n",
    "plt.legend(title='Supervivencia', labels=['Si','No'])\n",
    "plt.show()"
   ]
  },
  {
   "cell_type": "markdown",
   "id": "3943698c-fa2c-4065-89c6-188efda1cca7",
   "metadata": {},
   "source": [
    "En cuanto a los <b>Gliomas</b>, parece que los <b>Glioblastomas</b> son más determinantes que <b>otro tipo de gliomas</b>, ya que éstos últimos cuentan con un mayor índice de supervivencia."
   ]
  },
  {
   "cell_type": "markdown",
   "id": "1f45a1e6-3601-4ba8-b0af-61f771043c6d",
   "metadata": {},
   "source": [
    "### 4. Conclusiones"
   ]
  },
  {
   "cell_type": "markdown",
   "id": "724b31df-f777-45e9-be8e-97949db7126f",
   "metadata": {},
   "source": [
    "RESUMEN ESTADÍSTICO\n",
    "<ul>\n",
    "    <li>El conjunto de datos posee <b>1.111 registros</b>, de los cuales, el <b>55.6%</b> corresponden a personas que no han sobrevivido (618 casos) y el <b>44.4%</b> a personas que si han sobrevivido (493 casos).</li>\n",
    "    <li>De los 1.111 registros, el <b>58.6%</b> corresponde al género masculino, y el <b>41.4%</b> al género femenino.</li>\n",
    "    <li>La gran mayoría de registros, corresponden a personas de entre <b>25 y 70 años de edad</b>.</li>\n",
    "    <li>Además, la mayoría de personas diagnosticadas, corresponden a personas de <b>raza blanca</b>.</li>\n",
    "    <li>En cuanto a los <b>Gliomas</b>, tenemos un <b>53.6% de Glioblastomas</b> y un <b>46.4%</b> que corresponde a <b>otros gliomas</b>.</li>\n",
    "</ul>\n",
    "\n",
    "RELACIÓN DE SUPERVIVENCIA\n",
    "<ul>\n",
    "    <li><b>El género es un factor importante a tener en cuenta</b>, ya que hay más casos de gliomas en hombres que en mujeres, y, sin embargo, las mujeres tienen más posibilidades de sobrevivir.</li>\n",
    "    <li><b>Antes de los 50 años de edad, hay más probabilidades de sobrevivir</b> que a partir de esta edad. Por lo que la <b>edad</b> también es un factor importante a tener en cuenta.</li>\n",
    "    <li>Las personas con un tratamiento previo no es un componente a tener en cuenta, ya que tenemos pocos casos, y no son representativos, ya que hay personas con tratamientos previos que también han fallecido.</li>\n",
    "    <li>Aquellas personas que reciben un <b>tratamiento</b>, tanto farmacéutico como de radioterapia, tienen las mismas probabilidades de sobrevivir. Lamentablemente, el índice de supervivencia es más bajo que el no lograrlo.</li>\n",
    "    <li>Y, por último, en cuanto a los <b>Gliomas</b>, cabe destacar que los <b>Glioblastomas</b> son más determinantes para la <b>No Supervivencia</b>, ya que hay pocos casos satisfactorios. Por tanto, <b>otro tipo de gliomas</b> tienen un mayor índice de supervivencia.</li>\n",
    "</ul>"
   ]
  }
 ],
 "metadata": {
  "kernelspec": {
   "display_name": "Python 3 (ipykernel)",
   "language": "python",
   "name": "python3"
  },
  "language_info": {
   "codemirror_mode": {
    "name": "ipython",
    "version": 3
   },
   "file_extension": ".py",
   "mimetype": "text/x-python",
   "name": "python",
   "nbconvert_exporter": "python",
   "pygments_lexer": "ipython3",
   "version": "3.9.12"
  },
  "toc-showmarkdowntxt": false
 },
 "nbformat": 4,
 "nbformat_minor": 5
}
